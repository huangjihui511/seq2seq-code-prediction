{
 "nbformat": 4,
 "nbformat_minor": 2,
 "metadata": {
  "language_info": {
   "name": "python",
   "codemirror_mode": {
    "name": "ipython",
    "version": 3
   },
   "version": "3.7.4-final"
  },
  "orig_nbformat": 2,
  "file_extension": ".py",
  "mimetype": "text/x-python",
  "name": "python",
  "npconvert_exporter": "python",
  "pygments_lexer": "ipython3",
  "version": 3,
  "kernelspec": {
   "name": "python37464bitc618d87d24fd41819fe0e569b8dfcad8",
   "display_name": "Python 3.7.4 64-bit"
  }
 },
 "cells": [
  {
   "cell_type": "code",
   "execution_count": 135,
   "metadata": {},
   "outputs": [
    {
     "output_type": "execute_result",
     "data": {
      "text/plain": "[('@ Override\\nArrayList < Worker > setWorkers ( int num ) {\\nArrayList < Worker > ws = new ArrayList < Worker > ( num ) ;\\nfor ( int i = 0 ; i < num ; i ++ ) {\\nws . add ( new ArrayTransposeWorker ( this , i + 1 ) ) ;\\n}\\nreturn ws ;\\n}\\n@ Override\\nArrayResult aggregateData ( ) {',\n  'int rows = ( ( ArrayResult ) this . getAllResultData ( )'),\n ('@ Override\\nArrayList < Worker > setWorkers ( int num ) {\\nArrayList < Worker > ws = new ArrayList < Worker > ( num ) ;\\nfor ( int i = 0 ; i < num ; i ++ ) {\\nws . add ( new ArrayTransposeWorker ( this , i + 1 ) ) ;\\n}\\nreturn ws ;\\n}\\n@ Override\\nArrayResult aggregateData ( ) {\\nint rows = ( ( ArrayResult ) this . getAllResultData ( )',\n  '. get ( this . getAllResultData ( ) . keys ( ) . nextElement ( ) ) ) . data . length ;'),\n ('@ Override\\nArrayList < Worker > setWorkers ( int num ) {\\nArrayList < Worker > ws = new ArrayList < Worker > ( num ) ;\\nfor ( int i = 0 ; i < num ; i ++ ) {\\nws . add ( new ArrayTransposeWorker ( this , i + 1 ) ) ;\\n}\\nreturn ws ;\\n}\\n@ Override\\nArrayResult aggregateData ( ) {\\nint rows = ( ( ArrayResult ) this . getAllResultData ( )\\n. get ( this . getAllResultData ( ) . keys ( ) . nextElement ( ) ) ) . data . length ;',\n  'int columns =')]"
     },
     "metadata": {},
     "execution_count": 135
    }
   ],
   "source": [
    "path = \"data\"\n",
    "\n",
    "import os\n",
    "import javalang\n",
    "dirs = os.listdir(path)\n",
    "\n",
    "num_not_use = 10\n",
    "num_in = 10\n",
    "def synax_file(strs):\n",
    "    lines = []\n",
    "    lines2 = []\n",
    "    for str in strs:\n",
    "        tokens = list(javalang.tokenizer.tokenize(str))\n",
    "        #print(tokens)\n",
    "        line = \" \".join([item.value for item in tokens])\n",
    "        lines.append(line)\n",
    "    if len(lines) > num_in + num_not_use:\n",
    "        for i in range(len(lines) - (num_in + num_not_use)):\n",
    "            p = (\"\\n\".join(lines[num_not_use:i+(num_in + num_not_use)]),lines[i+(num_in + num_not_use)])\n",
    "            lines2.append(p)\n",
    "    return lines2\n",
    "data = []\n",
    "for file in dirs:\n",
    "    f = open(os.path.join(path,file))\n",
    "    data += synax_file(f.readlines())\n",
    "data[:3]"
   ]
  },
  {
   "cell_type": "code",
   "execution_count": null,
   "metadata": {},
   "outputs": [],
   "source": []
  },
  {
   "cell_type": "code",
   "execution_count": 136,
   "metadata": {},
   "outputs": [
    {
     "output_type": "execute_result",
     "data": {
      "text/plain": "[('@ Override\\nArrayList < Worker > setWorkers ( int num ) {\\nArrayList < Worker > ws = new ArrayList < Worker > ( num ) ;\\nfor ( int i = 0 ; i < num ; i ++ ) {\\nws . add ( new ArrayTransposeWorker ( this , i + 1 ) ) ;\\n}\\nreturn ws ;\\n}\\n@ Override\\nArrayResult aggregateData ( ) {',\n  'int rows = ( ( ArrayResult ) this . getAllResultData ( )'),\n ('@ Override\\nArrayList < Worker > setWorkers ( int num ) {\\nArrayList < Worker > ws = new ArrayList < Worker > ( num ) ;\\nfor ( int i = 0 ; i < num ; i ++ ) {\\nws . add ( new ArrayTransposeWorker ( this , i + 1 ) ) ;\\n}\\nreturn ws ;\\n}\\n@ Override\\nArrayResult aggregateData ( ) {\\nint rows = ( ( ArrayResult ) this . getAllResultData ( )',\n  '. get ( this . getAllResultData ( ) . keys ( ) . nextElement ( ) ) ) . data . length ;'),\n ('@ Override\\nArrayList < Worker > setWorkers ( int num ) {\\nArrayList < Worker > ws = new ArrayList < Worker > ( num ) ;\\nfor ( int i = 0 ; i < num ; i ++ ) {\\nws . add ( new ArrayTransposeWorker ( this , i + 1 ) ) ;\\n}\\nreturn ws ;\\n}\\n@ Override\\nArrayResult aggregateData ( ) {\\nint rows = ( ( ArrayResult ) this . getAllResultData ( )\\n. get ( this . getAllResultData ( ) . keys ( ) . nextElement ( ) ) ) . data . length ;',\n  'int columns =')]"
     },
     "metadata": {},
     "execution_count": 136
    }
   ],
   "source": [
    "dictionary = {}\n",
    "MAX_LENGTH = 100\n",
    "\n",
    "shorten_sentences_flag = True\n",
    "words_min_times = 0\n",
    "reverse_flag = False\n",
    "\n",
    "def shorten_sentences(str):\n",
    "    strs = str.split(\"\\n\")\n",
    "    result = \"\"\n",
    "    length = 0\n",
    "    for i in range(len(strs)):\n",
    "        item = strs[i]\n",
    "        if len(item.split(\" \")) + length < MAX_LENGTH:\n",
    "            if i < len(strs) - 1:\n",
    "                result += item + \"\\n\"\n",
    "            else:\n",
    "                result += item\n",
    "                return result\n",
    "            length = len(result.split(\" \"))\n",
    "        else:\n",
    "            break\n",
    "    return result\n",
    "\n",
    "def clean_data(data):\n",
    "    for item in data:\n",
    "        for item2 in item:\n",
    "            words = item2.split(\" \")\n",
    "            for word in words:\n",
    "                dictionary.setdefault(word,0)\n",
    "                dictionary[word] += 1\n",
    "    data2 = []\n",
    "    for item in data:\n",
    "        temp = []\n",
    "        flag = 0\n",
    "        for item2 in item:\n",
    "            item2 = \" \".join([token for token in item2.split(\" \") if dictionary[token] > words_min_times])\n",
    "            \n",
    "            if reverse_flag and flag == 1:\n",
    "                item2 = \" \".join(reversed(item2.split(\" \")))\n",
    "            if shorten_sentences_flag:\n",
    "                item2 = shorten_sentences(item2)\n",
    "                \n",
    "            temp.append(item2)\n",
    "            flag += 1\n",
    "        temp = tuple(temp)\n",
    "        if temp[0] == \"\" or temp[1] == \"\":\n",
    "            continue\n",
    "        data2.append(temp)\n",
    "    return data2\n",
    "data2 = clean_data(data)\n",
    "data2[:3]"
   ]
  },
  {
   "cell_type": "code",
   "execution_count": 137,
   "metadata": {},
   "outputs": [],
   "source": [
    "import json\n",
    "f = open(\"parsed_data.txt\", \"w\")\n",
    "json_str = json.dumps(data)\n",
    "json.dump(json_str,f)"
   ]
  },
  {
   "cell_type": "code",
   "execution_count": 138,
   "metadata": {},
   "outputs": [
    {
     "output_type": "execute_result",
     "data": {
      "text/plain": "'sha sia ajss. sdasds ss. ds ssa aa a .'"
     },
     "metadata": {},
     "execution_count": 138
    }
   ],
   "source": [
    "shorten_sentences(\"sha sia ajss. sdasds ss. ds ssa aa a .\")"
   ]
  },
  {
   "cell_type": "code",
   "execution_count": 139,
   "metadata": {},
   "outputs": [],
   "source": [
    "from __future__ import unicode_literals, print_function, division\n",
    "from io import open\n",
    "import unicodedata\n",
    "import string\n",
    "import re\n",
    "import random\n",
    "\n",
    "import torch\n",
    "import torch.nn as nn\n",
    "from torch import optim\n",
    "import torch.nn.functional as F\n",
    "\n",
    "device = torch.device(\"cuda\" if torch.cuda.is_available() else \"cpu\")"
   ]
  },
  {
   "cell_type": "code",
   "execution_count": 140,
   "metadata": {},
   "outputs": [],
   "source": [
    "SOS_token = 0\n",
    "EOS_token = 1\n",
    "\n",
    "\n",
    "class Lang:\n",
    "    def __init__(self, name):\n",
    "        self.name = name\n",
    "        self.word2index = {}\n",
    "        self.word2count = {}\n",
    "        self.index2word = {0: \"SOS\", 1: \"EOS\"}\n",
    "        self.n_words = 2  # Count SOS and EOS\n",
    "\n",
    "    def addSentence(self, sentence):\n",
    "        for word in sentence.split(' '):\n",
    "            self.addWord(word)\n",
    "\n",
    "    def addWord(self, word):\n",
    "        if word not in self.word2index:\n",
    "            self.word2index[word] = self.n_words\n",
    "            self.word2count[word] = 1\n",
    "            self.index2word[self.n_words] = word\n",
    "            self.n_words += 1\n",
    "        else:\n",
    "            self.word2count[word] += 1"
   ]
  },
  {
   "cell_type": "code",
   "execution_count": 141,
   "metadata": {},
   "outputs": [],
   "source": [
    "# Turn a Unicode string to plain ASCII, thanks to\n",
    "# https://stackoverflow.com/a/518232/2809427\n",
    "def unicodeToAscii(s):\n",
    "    return ''.join(\n",
    "        c for c in unicodedata.normalize('NFD', s)\n",
    "        if unicodedata.category(c) != 'Mn'\n",
    "    )\n",
    "\n",
    "# Lowercase, trim, and remove non-letter characters\n",
    "\n",
    "\n",
    "def normalizeString(s):\n",
    "    #s = unicodeToAscii(s.lower().strip())\n",
    "    #s = re.sub(r\"([.!?\\'])\", r\" \\1\", s)\n",
    "    #s = re.sub(r\"[^a-zA-Z.!?]+\", r\" \", s)\n",
    "    return s"
   ]
  },
  {
   "cell_type": "code",
   "execution_count": 142,
   "metadata": {},
   "outputs": [],
   "source": [
    "def readLangs(lang):\n",
    "    print(\"Reading lines...\")\n",
    "    '''\n",
    "    # Read the file and split into lines\n",
    "    lines = open('data/%s-%s.txt' % (lang1, lang2), encoding='utf-8').\\\n",
    "        read().strip().split('\\n')\n",
    "\n",
    "    # Split every line into pairs and normalize\n",
    "    pairs = [[normalizeString(s) for s in l.split('\\t')] for l in lines]\n",
    "    '''\n",
    "    pairs = [(normalizeString(item[0]), normalizeString(item[1])) for item in data2]\n",
    "    # Reverse pairs, make Lang instances\n",
    "\n",
    "\n",
    "    lang = Lang(lang)\n",
    "\n",
    "    return lang, pairs"
   ]
  },
  {
   "cell_type": "code",
   "execution_count": 143,
   "metadata": {},
   "outputs": [],
   "source": [
    "eng_prefixes = (\n",
    "    \"i am \", \"i m \",\n",
    "    \"he is\", \"he s \",\n",
    "    \"she is\", \"she s \",\n",
    "    \"you are\", \"you re \",\n",
    "    \"we are\", \"we re \",\n",
    "    \"they are\", \"they re \"\n",
    ")\n",
    "\n",
    "\n",
    "def filterPair(p):\n",
    "    return len(p[0].split(' ')) < MAX_LENGTH and \\\n",
    "        len(p[1].split(' ')) < MAX_LENGTH\n",
    "\n",
    "\n",
    "def filterPairs(pairs):\n",
    "    return [pair for pair in pairs if filterPair(pair)]"
   ]
  },
  {
   "cell_type": "code",
   "execution_count": 144,
   "metadata": {
    "tags": [
     "outputPrepend"
    ]
   },
   "outputs": [
    {
     "output_type": "stream",
     "name": "stdout",
     "text": "Reading lines...\nRead 178 sentence pairs\nTrimmed to 178 sentence pairs\nCounting words...\nCounted words:\nlang 283\n('} else {\\nboolean answer = false ;\\nfor ( int i = 0 ; i < a1 . length ; i ++ ) {\\nif ( a1 [ i ] == a2 [ i ] ) {\\nanswer = true ;\\n} else {\\nanswer = false ;\\nbreak ;\\n}\\n}\\nreturn answer ;\\n}\\n}\\npublic static boolean matricesSame ( int [ ] [ ] m1 , int [ ] [ ] m2 ) {\\nif ( m1 . length != m2 . length ) {\\nreturn false ;\\n} else {\\nboolean answer = false ;\\n', 'public static int [ ] [ ] createRandomIntMatrix ( int rows , int columns ) {')\n"
    }
   ],
   "source": [
    "def prepareData(lang):\n",
    "    lang, pairs = readLangs(lang)\n",
    "    print(\"Read %s sentence pairs\" % len(pairs))\n",
    "    pairs = filterPairs(pairs)\n",
    "    print(\"Trimmed to %s sentence pairs\" % len(pairs))\n",
    "    print(\"Counting words...\")\n",
    "    for pair in pairs:\n",
    "        #print(pair)\n",
    "        lang.addSentence(pair[0])\n",
    "        lang.addSentence(pair[1])\n",
    "    print(\"Counted words:\")\n",
    "    print(lang.name, lang.n_words)\n",
    "    return lang, pairs\n",
    "\n",
    "\n",
    "lang, pairs = prepareData('lang')\n",
    "print(random.choice(pairs))"
   ]
  },
  {
   "cell_type": "code",
   "execution_count": 145,
   "metadata": {},
   "outputs": [],
   "source": [
    "class EncoderRNN(nn.Module):\n",
    "    def __init__(self, input_size, hidden_size):\n",
    "        super(EncoderRNN, self).__init__()\n",
    "        self.hidden_size = hidden_size\n",
    "\n",
    "        self.embedding = nn.Embedding(input_size, hidden_size)\n",
    "        self.gru = nn.GRU(hidden_size, hidden_size)\n",
    "\n",
    "    def forward(self, input, hidden):\n",
    "        embedded = self.embedding(input).view(1, 1, -1)\n",
    "        output = embedded\n",
    "        output, hidden = self.gru(output, hidden)\n",
    "        return output, hidden\n",
    "\n",
    "    def initHidden(self):\n",
    "        return torch.zeros(1, 1, self.hidden_size, device=device)"
   ]
  },
  {
   "cell_type": "code",
   "execution_count": 146,
   "metadata": {},
   "outputs": [],
   "source": [
    "class DecoderRNN(nn.Module):\n",
    "    def __init__(self, hidden_size, output_size):\n",
    "        super(DecoderRNN, self).__init__()\n",
    "        self.hidden_size = hidden_size\n",
    "\n",
    "        self.embedding = nn.Embedding(output_size, hidden_size)\n",
    "        self.gru = nn.GRU(hidden_size, hidden_size)\n",
    "        self.out = nn.Linear(hidden_size, output_size)\n",
    "        self.softmax = nn.LogSoftmax(dim=1)\n",
    "\n",
    "    def forward(self, input, hidden):\n",
    "        output = self.embedding(input).view(1, 1, -1)\n",
    "        output = F.relu(output)\n",
    "        output, hidden = self.gru(output, hidden)\n",
    "        output = self.softmax(self.out(output[0]))\n",
    "        return output, hidden\n",
    "\n",
    "    def initHidden(self):\n",
    "        return torch.zeros(1, 1, self.hidden_size, device=device)"
   ]
  },
  {
   "cell_type": "code",
   "execution_count": 147,
   "metadata": {},
   "outputs": [],
   "source": [
    "class AttnDecoderRNN(nn.Module):\n",
    "    def __init__(self, hidden_size, output_size, dropout_p=0.1, max_length=MAX_LENGTH):\n",
    "        super(AttnDecoderRNN, self).__init__()\n",
    "        self.hidden_size = hidden_size\n",
    "        self.output_size = output_size\n",
    "        self.dropout_p = dropout_p\n",
    "        self.max_length = max_length\n",
    "\n",
    "        self.embedding = nn.Embedding(self.output_size, self.hidden_size)\n",
    "        self.attn = nn.Linear(self.hidden_size * 2, self.max_length)\n",
    "        self.attn_combine = nn.Linear(self.hidden_size * 2, self.hidden_size)\n",
    "        self.dropout = nn.Dropout(self.dropout_p)\n",
    "        self.gru = nn.GRU(self.hidden_size, self.hidden_size)\n",
    "        self.out = nn.Linear(self.hidden_size, self.output_size)\n",
    "\n",
    "    def forward(self, input, hidden, encoder_outputs):\n",
    "        embedded = self.embedding(input).view(1, 1, -1)\n",
    "        embedded = self.dropout(embedded)\n",
    "\n",
    "        attn_weights = F.softmax(\n",
    "            self.attn(torch.cat((embedded[0], hidden[0]), 1)), dim=1)\n",
    "        attn_applied = torch.bmm(attn_weights.unsqueeze(0),\n",
    "                                 encoder_outputs.unsqueeze(0))\n",
    "\n",
    "        output = torch.cat((embedded[0], attn_applied[0]), 1)\n",
    "        output = self.attn_combine(output).unsqueeze(0)\n",
    "\n",
    "        output = F.relu(output)\n",
    "        output, hidden = self.gru(output, hidden)\n",
    "\n",
    "        output = F.log_softmax(self.out(output[0]), dim=1)\n",
    "        return output, hidden, attn_weights\n",
    "\n",
    "    def initHidden(self):\n",
    "        return torch.zeros(1, 1, self.hidden_size, device=device)"
   ]
  },
  {
   "cell_type": "code",
   "execution_count": 148,
   "metadata": {},
   "outputs": [],
   "source": [
    "def indexesFromSentence(lang, sentence):\n",
    "    return [lang.word2index[word] for word in sentence.split(' ')]\n",
    "\n",
    "\n",
    "def tensorFromSentence(lang, sentence):\n",
    "    indexes = indexesFromSentence(lang, sentence)\n",
    "    indexes.append(EOS_token)\n",
    "    return torch.tensor(indexes, dtype=torch.long, device=device).view(-1, 1)\n",
    "\n",
    "\n",
    "def tensorsFromPair(pair):\n",
    "    input_tensor = tensorFromSentence(lang, pair[0])\n",
    "    target_tensor = tensorFromSentence(lang, pair[1])\n",
    "    return (input_tensor, target_tensor)"
   ]
  },
  {
   "cell_type": "code",
   "execution_count": 149,
   "metadata": {},
   "outputs": [],
   "source": [
    "teacher_forcing_ratio = 0.5\n",
    "\n",
    "\n",
    "def train(input_tensor, target_tensor, encoder, decoder, encoder_optimizer, decoder_optimizer, criterion, max_length=MAX_LENGTH):\n",
    "    encoder_hidden = encoder.initHidden()\n",
    "\n",
    "    encoder_optimizer.zero_grad()\n",
    "    decoder_optimizer.zero_grad()\n",
    "\n",
    "    input_length = input_tensor.size(0)\n",
    "    target_length = target_tensor.size(0)\n",
    "\n",
    "    encoder_outputs = torch.zeros(max_length, encoder.hidden_size, device=device)\n",
    "\n",
    "    loss = 0\n",
    "\n",
    "    for ei in range(input_length):\n",
    "        encoder_output, encoder_hidden = encoder(\n",
    "            input_tensor[ei], encoder_hidden)\n",
    "        encoder_outputs[ei] = encoder_output[0, 0]\n",
    "\n",
    "    decoder_input = torch.tensor([[SOS_token]], device=device)\n",
    "\n",
    "    decoder_hidden = encoder_hidden\n",
    "\n",
    "    use_teacher_forcing = True if random.random() < teacher_forcing_ratio else False\n",
    "\n",
    "    if use_teacher_forcing:\n",
    "        # Teacher forcing: Feed the target as the next input\n",
    "        for di in range(target_length):\n",
    "            decoder_output, decoder_hidden, decoder_attention = decoder(\n",
    "                decoder_input, decoder_hidden, encoder_outputs)\n",
    "            loss += criterion(decoder_output, target_tensor[di])\n",
    "            decoder_input = target_tensor[di]  # Teacher forcing\n",
    "\n",
    "    else:\n",
    "        # Without teacher forcing: use its own predictions as the next input\n",
    "        for di in range(target_length):\n",
    "            decoder_output, decoder_hidden, decoder_attention = decoder(\n",
    "                decoder_input, decoder_hidden, encoder_outputs)\n",
    "            topv, topi = decoder_output.topk(1)\n",
    "            decoder_input = topi.squeeze().detach()  # detach from history as input\n",
    "\n",
    "            loss += criterion(decoder_output, target_tensor[di])\n",
    "            if decoder_input.item() == EOS_token:\n",
    "                break\n",
    "\n",
    "    loss.backward()\n",
    "\n",
    "    encoder_optimizer.step()\n",
    "    decoder_optimizer.step()\n",
    "\n",
    "    return loss.item() / target_length"
   ]
  },
  {
   "cell_type": "code",
   "execution_count": 150,
   "metadata": {},
   "outputs": [],
   "source": [
    "import time\n",
    "import math\n",
    "\n",
    "\n",
    "def asMinutes(s):\n",
    "    m = math.floor(s / 60)\n",
    "    s -= m * 60\n",
    "    return '%dm %ds' % (m, s)\n",
    "\n",
    "\n",
    "def timeSince(since, percent):\n",
    "    now = time.time()\n",
    "    s = now - since\n",
    "    es = s / (percent)\n",
    "    rs = es - s\n",
    "    return '%s (- %s)' % (asMinutes(s), asMinutes(rs))"
   ]
  },
  {
   "cell_type": "code",
   "execution_count": 151,
   "metadata": {},
   "outputs": [],
   "source": [
    "def trainIters(encoder, decoder, n_iters, print_every=1000, plot_every=100, learning_rate=0.01):\n",
    "    start = time.time()\n",
    "    plot_losses = []\n",
    "    print_loss_total = 0  # Reset every print_every\n",
    "    plot_loss_total = 0  # Reset every plot_every\n",
    "    print(\"the size of data is:\", len(pairs))\n",
    "    encoder_optimizer = optim.SGD(encoder.parameters(), lr=learning_rate)\n",
    "    decoder_optimizer = optim.SGD(decoder.parameters(), lr=learning_rate)\n",
    "    training_pairs = [tensorsFromPair(random.choice(pairs))\n",
    "                      for i in range(n_iters)]\n",
    "    criterion = nn.NLLLoss()\n",
    "\n",
    "    for iter in range(1, n_iters + 1):\n",
    "        training_pair = training_pairs[iter - 1]\n",
    "        input_tensor = training_pair[0]\n",
    "        target_tensor = training_pair[1]\n",
    "\n",
    "        loss = train(input_tensor, target_tensor, encoder,\n",
    "                     decoder, encoder_optimizer, decoder_optimizer, criterion)\n",
    "        print_loss_total += loss\n",
    "        plot_loss_total += loss\n",
    "\n",
    "        if iter % print_every == 0:\n",
    "            print_loss_avg = print_loss_total / print_every\n",
    "            print_loss_total = 0\n",
    "            print('%s (%d %d%%) %.4f' % (timeSince(start, iter / n_iters),\n",
    "                                         iter, iter / n_iters * 100, print_loss_avg))\n",
    "\n",
    "        if iter % plot_every == 0:\n",
    "            plot_loss_avg = plot_loss_total / plot_every\n",
    "            plot_losses.append(plot_loss_avg)\n",
    "            plot_loss_total = 0\n",
    "\n",
    "    showPlot(plot_losses)"
   ]
  },
  {
   "cell_type": "code",
   "execution_count": 152,
   "metadata": {},
   "outputs": [],
   "source": [
    "import matplotlib.pyplot as plt\n",
    "plt.switch_backend('agg')\n",
    "import matplotlib.ticker as ticker\n",
    "import numpy as np\n",
    "\n",
    "\n",
    "def showPlot(points):\n",
    "    plt.figure()\n",
    "    fig, ax = plt.subplots()\n",
    "    # this locator puts ticks at regular intervals\n",
    "    loc = ticker.MultipleLocator(base=0.2)\n",
    "    ax.yaxis.set_major_locator(loc)\n",
    "    plt.plot(points)"
   ]
  },
  {
   "cell_type": "code",
   "execution_count": 153,
   "metadata": {},
   "outputs": [],
   "source": [
    "def evaluate(encoder, decoder, sentence, max_length=MAX_LENGTH):\n",
    "    with torch.no_grad():\n",
    "        input_tensor = tensorFromSentence(lang, sentence)\n",
    "        input_length = input_tensor.size()[0]\n",
    "        encoder_hidden = encoder.initHidden()\n",
    "\n",
    "        encoder_outputs = torch.zeros(max_length, encoder.hidden_size, device=device)\n",
    "\n",
    "        for ei in range(input_length):\n",
    "            encoder_output, encoder_hidden = encoder(input_tensor[ei],\n",
    "                                                     encoder_hidden)\n",
    "            encoder_outputs[ei] += encoder_output[0, 0]\n",
    "\n",
    "        decoder_input = torch.tensor([[SOS_token]], device=device)  # SOS\n",
    "\n",
    "        decoder_hidden = encoder_hidden\n",
    "\n",
    "        decoded_words = []\n",
    "        decoder_attentions = torch.zeros(max_length, max_length)\n",
    "\n",
    "        for di in range(max_length):\n",
    "            decoder_output, decoder_hidden, decoder_attention = decoder(\n",
    "                decoder_input, decoder_hidden, encoder_outputs)\n",
    "            decoder_attentions[di] = decoder_attention.data\n",
    "            topv, topi = decoder_output.data.topk(1)\n",
    "            if topi.item() == EOS_token:\n",
    "                decoded_words.append('<EOS>')\n",
    "                break\n",
    "            else:\n",
    "                decoded_words.append(lang.index2word[topi.item()])\n",
    "\n",
    "            decoder_input = topi.squeeze().detach()\n",
    "\n",
    "        return decoded_words, decoder_attentions[:di + 1]"
   ]
  },
  {
   "cell_type": "code",
   "execution_count": 154,
   "metadata": {},
   "outputs": [],
   "source": [
    "def evaluateRandomly(encoder, decoder, n=10):\n",
    "    for i in range(n):\n",
    "        pair = random.choice(pairs)\n",
    "        print('>', pair[0])\n",
    "        p1 = pair[1].split(\" \")\n",
    "        if reverse_flag:\n",
    "            p1 = reseverd(p1)\n",
    "        print('=', \" \".join(p1))\n",
    "        output_words, attentions = evaluate(encoder, decoder, pair[0])\n",
    "        if reverse_flag:\n",
    "            output_words = reseverd(output_words)\n",
    "        output_sentence = ' '.join(output_words)\n",
    "        print('<', output_sentence)\n",
    "        print('')"
   ]
  },
  {
   "cell_type": "code",
   "execution_count": 158,
   "metadata": {},
   "outputs": [
    {
     "output_type": "stream",
     "name": "stdout",
     "text": "the size of data is: 2\n0m 27s (- 1m 49s) (200 20%) 1.2069\n0m 56s (- 1m 24s) (400 40%) 0.1279\n1m 25s (- 0m 57s) (600 60%) 0.0108\n1m 53s (- 0m 28s) (800 80%) 0.0051\n2m 17s (- 0m 0s) (1000 100%) 0.0034\n"
    },
    {
     "output_type": "display_data",
     "data": {
      "text/plain": "<Figure size 432x288 with 0 Axes>"
     },
     "metadata": {}
    },
    {
     "output_type": "display_data",
     "data": {
      "text/plain": "<Figure size 432x288 with 1 Axes>",
      "image/svg+xml": "<?xml version=\"1.0\" encoding=\"utf-8\" standalone=\"no\"?>\n<!DOCTYPE svg PUBLIC \"-//W3C//DTD SVG 1.1//EN\"\n  \"http://www.w3.org/Graphics/SVG/1.1/DTD/svg11.dtd\">\n<!-- Created with matplotlib (https://matplotlib.org/) -->\n<svg height=\"250.489511pt\" version=\"1.1\" viewBox=\"0 0 372.103125 250.489511\" width=\"372.103125pt\" xmlns=\"http://www.w3.org/2000/svg\" xmlns:xlink=\"http://www.w3.org/1999/xlink\">\n <defs>\n  <style type=\"text/css\">\n*{stroke-linecap:butt;stroke-linejoin:round;}\n  </style>\n </defs>\n <g id=\"figure_1\">\n  <g id=\"patch_1\">\n   <path d=\"M 0 250.489511 \nL 372.103125 250.489511 \nL 372.103125 0 \nL 0 0 \nz\n\" style=\"fill:none;\"/>\n  </g>\n  <g id=\"axes_1\">\n   <g id=\"patch_2\">\n    <path d=\"M 30.103125 226.611386 \nL 364.903125 226.611386 \nL 364.903125 9.171386 \nL 30.103125 9.171386 \nz\n\" style=\"fill:#ffffff;\"/>\n   </g>\n   <g id=\"matplotlib.axis_1\">\n    <g id=\"xtick_1\">\n     <g id=\"line2d_1\">\n      <defs>\n       <path d=\"M 0 0 \nL 0 3.5 \n\" id=\"mdb47fa88a9\" style=\"stroke:#000000;stroke-width:0.8;\"/>\n      </defs>\n      <g>\n       <use style=\"stroke:#000000;stroke-width:0.8;\" x=\"45.321307\" xlink:href=\"#mdb47fa88a9\" y=\"226.611386\"/>\n      </g>\n     </g>\n     <g id=\"text_1\">\n      <!-- 0 -->\n      <defs>\n       <path d=\"M 31.78125 66.40625 \nQ 24.171875 66.40625 20.328125 58.90625 \nQ 16.5 51.421875 16.5 36.375 \nQ 16.5 21.390625 20.328125 13.890625 \nQ 24.171875 6.390625 31.78125 6.390625 \nQ 39.453125 6.390625 43.28125 13.890625 \nQ 47.125 21.390625 47.125 36.375 \nQ 47.125 51.421875 43.28125 58.90625 \nQ 39.453125 66.40625 31.78125 66.40625 \nz\nM 31.78125 74.21875 \nQ 44.046875 74.21875 50.515625 64.515625 \nQ 56.984375 54.828125 56.984375 36.375 \nQ 56.984375 17.96875 50.515625 8.265625 \nQ 44.046875 -1.421875 31.78125 -1.421875 \nQ 19.53125 -1.421875 13.0625 8.265625 \nQ 6.59375 17.96875 6.59375 36.375 \nQ 6.59375 54.828125 13.0625 64.515625 \nQ 19.53125 74.21875 31.78125 74.21875 \nz\n\" id=\"DejaVuSans-48\"/>\n      </defs>\n      <g transform=\"translate(42.140057 241.209823)scale(0.1 -0.1)\">\n       <use xlink:href=\"#DejaVuSans-48\"/>\n      </g>\n     </g>\n    </g>\n    <g id=\"xtick_2\">\n     <g id=\"line2d_2\">\n      <g>\n       <use style=\"stroke:#000000;stroke-width:0.8;\" x=\"112.95767\" xlink:href=\"#mdb47fa88a9\" y=\"226.611386\"/>\n      </g>\n     </g>\n     <g id=\"text_2\">\n      <!-- 2 -->\n      <defs>\n       <path d=\"M 19.1875 8.296875 \nL 53.609375 8.296875 \nL 53.609375 0 \nL 7.328125 0 \nL 7.328125 8.296875 \nQ 12.9375 14.109375 22.625 23.890625 \nQ 32.328125 33.6875 34.8125 36.53125 \nQ 39.546875 41.84375 41.421875 45.53125 \nQ 43.3125 49.21875 43.3125 52.78125 \nQ 43.3125 58.59375 39.234375 62.25 \nQ 35.15625 65.921875 28.609375 65.921875 \nQ 23.96875 65.921875 18.8125 64.3125 \nQ 13.671875 62.703125 7.8125 59.421875 \nL 7.8125 69.390625 \nQ 13.765625 71.78125 18.9375 73 \nQ 24.125 74.21875 28.421875 74.21875 \nQ 39.75 74.21875 46.484375 68.546875 \nQ 53.21875 62.890625 53.21875 53.421875 \nQ 53.21875 48.921875 51.53125 44.890625 \nQ 49.859375 40.875 45.40625 35.40625 \nQ 44.1875 33.984375 37.640625 27.21875 \nQ 31.109375 20.453125 19.1875 8.296875 \nz\n\" id=\"DejaVuSans-50\"/>\n      </defs>\n      <g transform=\"translate(109.77642 241.209823)scale(0.1 -0.1)\">\n       <use xlink:href=\"#DejaVuSans-50\"/>\n      </g>\n     </g>\n    </g>\n    <g id=\"xtick_3\">\n     <g id=\"line2d_3\">\n      <g>\n       <use style=\"stroke:#000000;stroke-width:0.8;\" x=\"180.594034\" xlink:href=\"#mdb47fa88a9\" y=\"226.611386\"/>\n      </g>\n     </g>\n     <g id=\"text_3\">\n      <!-- 4 -->\n      <defs>\n       <path d=\"M 37.796875 64.3125 \nL 12.890625 25.390625 \nL 37.796875 25.390625 \nz\nM 35.203125 72.90625 \nL 47.609375 72.90625 \nL 47.609375 25.390625 \nL 58.015625 25.390625 \nL 58.015625 17.1875 \nL 47.609375 17.1875 \nL 47.609375 0 \nL 37.796875 0 \nL 37.796875 17.1875 \nL 4.890625 17.1875 \nL 4.890625 26.703125 \nz\n\" id=\"DejaVuSans-52\"/>\n      </defs>\n      <g transform=\"translate(177.412784 241.209823)scale(0.1 -0.1)\">\n       <use xlink:href=\"#DejaVuSans-52\"/>\n      </g>\n     </g>\n    </g>\n    <g id=\"xtick_4\">\n     <g id=\"line2d_4\">\n      <g>\n       <use style=\"stroke:#000000;stroke-width:0.8;\" x=\"248.230398\" xlink:href=\"#mdb47fa88a9\" y=\"226.611386\"/>\n      </g>\n     </g>\n     <g id=\"text_4\">\n      <!-- 6 -->\n      <defs>\n       <path d=\"M 33.015625 40.375 \nQ 26.375 40.375 22.484375 35.828125 \nQ 18.609375 31.296875 18.609375 23.390625 \nQ 18.609375 15.53125 22.484375 10.953125 \nQ 26.375 6.390625 33.015625 6.390625 \nQ 39.65625 6.390625 43.53125 10.953125 \nQ 47.40625 15.53125 47.40625 23.390625 \nQ 47.40625 31.296875 43.53125 35.828125 \nQ 39.65625 40.375 33.015625 40.375 \nz\nM 52.59375 71.296875 \nL 52.59375 62.3125 \nQ 48.875 64.0625 45.09375 64.984375 \nQ 41.3125 65.921875 37.59375 65.921875 \nQ 27.828125 65.921875 22.671875 59.328125 \nQ 17.53125 52.734375 16.796875 39.40625 \nQ 19.671875 43.65625 24.015625 45.921875 \nQ 28.375 48.1875 33.59375 48.1875 \nQ 44.578125 48.1875 50.953125 41.515625 \nQ 57.328125 34.859375 57.328125 23.390625 \nQ 57.328125 12.15625 50.6875 5.359375 \nQ 44.046875 -1.421875 33.015625 -1.421875 \nQ 20.359375 -1.421875 13.671875 8.265625 \nQ 6.984375 17.96875 6.984375 36.375 \nQ 6.984375 53.65625 15.1875 63.9375 \nQ 23.390625 74.21875 37.203125 74.21875 \nQ 40.921875 74.21875 44.703125 73.484375 \nQ 48.484375 72.75 52.59375 71.296875 \nz\n\" id=\"DejaVuSans-54\"/>\n      </defs>\n      <g transform=\"translate(245.049148 241.209823)scale(0.1 -0.1)\">\n       <use xlink:href=\"#DejaVuSans-54\"/>\n      </g>\n     </g>\n    </g>\n    <g id=\"xtick_5\">\n     <g id=\"line2d_5\">\n      <g>\n       <use style=\"stroke:#000000;stroke-width:0.8;\" x=\"315.866761\" xlink:href=\"#mdb47fa88a9\" y=\"226.611386\"/>\n      </g>\n     </g>\n     <g id=\"text_5\">\n      <!-- 8 -->\n      <defs>\n       <path d=\"M 31.78125 34.625 \nQ 24.75 34.625 20.71875 30.859375 \nQ 16.703125 27.09375 16.703125 20.515625 \nQ 16.703125 13.921875 20.71875 10.15625 \nQ 24.75 6.390625 31.78125 6.390625 \nQ 38.8125 6.390625 42.859375 10.171875 \nQ 46.921875 13.96875 46.921875 20.515625 \nQ 46.921875 27.09375 42.890625 30.859375 \nQ 38.875 34.625 31.78125 34.625 \nz\nM 21.921875 38.8125 \nQ 15.578125 40.375 12.03125 44.71875 \nQ 8.5 49.078125 8.5 55.328125 \nQ 8.5 64.0625 14.71875 69.140625 \nQ 20.953125 74.21875 31.78125 74.21875 \nQ 42.671875 74.21875 48.875 69.140625 \nQ 55.078125 64.0625 55.078125 55.328125 \nQ 55.078125 49.078125 51.53125 44.71875 \nQ 48 40.375 41.703125 38.8125 \nQ 48.828125 37.15625 52.796875 32.3125 \nQ 56.78125 27.484375 56.78125 20.515625 \nQ 56.78125 9.90625 50.3125 4.234375 \nQ 43.84375 -1.421875 31.78125 -1.421875 \nQ 19.734375 -1.421875 13.25 4.234375 \nQ 6.78125 9.90625 6.78125 20.515625 \nQ 6.78125 27.484375 10.78125 32.3125 \nQ 14.796875 37.15625 21.921875 38.8125 \nz\nM 18.3125 54.390625 \nQ 18.3125 48.734375 21.84375 45.5625 \nQ 25.390625 42.390625 31.78125 42.390625 \nQ 38.140625 42.390625 41.71875 45.5625 \nQ 45.3125 48.734375 45.3125 54.390625 \nQ 45.3125 60.0625 41.71875 63.234375 \nQ 38.140625 66.40625 31.78125 66.40625 \nQ 25.390625 66.40625 21.84375 63.234375 \nQ 18.3125 60.0625 18.3125 54.390625 \nz\n\" id=\"DejaVuSans-56\"/>\n      </defs>\n      <g transform=\"translate(312.685511 241.209823)scale(0.1 -0.1)\">\n       <use xlink:href=\"#DejaVuSans-56\"/>\n      </g>\n     </g>\n    </g>\n   </g>\n   <g id=\"matplotlib.axis_2\">\n    <g id=\"ytick_1\">\n     <g id=\"line2d_6\">\n      <defs>\n       <path d=\"M 0 0 \nL -3.5 0 \n\" id=\"m198af0d984\" style=\"stroke:#000000;stroke-width:0.8;\"/>\n      </defs>\n      <g>\n       <use style=\"stroke:#000000;stroke-width:0.8;\" x=\"30.103125\" xlink:href=\"#m198af0d984\" y=\"217.043588\"/>\n      </g>\n     </g>\n     <g id=\"text_6\">\n      <!-- 0.0 -->\n      <defs>\n       <path d=\"M 10.6875 12.40625 \nL 21 12.40625 \nL 21 0 \nL 10.6875 0 \nz\n\" id=\"DejaVuSans-46\"/>\n      </defs>\n      <g transform=\"translate(7.2 220.842807)scale(0.1 -0.1)\">\n       <use xlink:href=\"#DejaVuSans-48\"/>\n       <use x=\"63.623047\" xlink:href=\"#DejaVuSans-46\"/>\n       <use x=\"95.410156\" xlink:href=\"#DejaVuSans-48\"/>\n      </g>\n     </g>\n    </g>\n    <g id=\"ytick_2\">\n     <g id=\"line2d_7\">\n      <g>\n       <use style=\"stroke:#000000;stroke-width:0.8;\" x=\"30.103125\" xlink:href=\"#m198af0d984\" y=\"196.439151\"/>\n      </g>\n     </g>\n     <g id=\"text_7\">\n      <!-- 0.2 -->\n      <g transform=\"translate(7.2 200.23837)scale(0.1 -0.1)\">\n       <use xlink:href=\"#DejaVuSans-48\"/>\n       <use x=\"63.623047\" xlink:href=\"#DejaVuSans-46\"/>\n       <use x=\"95.410156\" xlink:href=\"#DejaVuSans-50\"/>\n      </g>\n     </g>\n    </g>\n    <g id=\"ytick_3\">\n     <g id=\"line2d_8\">\n      <g>\n       <use style=\"stroke:#000000;stroke-width:0.8;\" x=\"30.103125\" xlink:href=\"#m198af0d984\" y=\"175.834714\"/>\n      </g>\n     </g>\n     <g id=\"text_8\">\n      <!-- 0.4 -->\n      <g transform=\"translate(7.2 179.633933)scale(0.1 -0.1)\">\n       <use xlink:href=\"#DejaVuSans-48\"/>\n       <use x=\"63.623047\" xlink:href=\"#DejaVuSans-46\"/>\n       <use x=\"95.410156\" xlink:href=\"#DejaVuSans-52\"/>\n      </g>\n     </g>\n    </g>\n    <g id=\"ytick_4\">\n     <g id=\"line2d_9\">\n      <g>\n       <use style=\"stroke:#000000;stroke-width:0.8;\" x=\"30.103125\" xlink:href=\"#m198af0d984\" y=\"155.230277\"/>\n      </g>\n     </g>\n     <g id=\"text_9\">\n      <!-- 0.6 -->\n      <g transform=\"translate(7.2 159.029496)scale(0.1 -0.1)\">\n       <use xlink:href=\"#DejaVuSans-48\"/>\n       <use x=\"63.623047\" xlink:href=\"#DejaVuSans-46\"/>\n       <use x=\"95.410156\" xlink:href=\"#DejaVuSans-54\"/>\n      </g>\n     </g>\n    </g>\n    <g id=\"ytick_5\">\n     <g id=\"line2d_10\">\n      <g>\n       <use style=\"stroke:#000000;stroke-width:0.8;\" x=\"30.103125\" xlink:href=\"#m198af0d984\" y=\"134.62584\"/>\n      </g>\n     </g>\n     <g id=\"text_10\">\n      <!-- 0.8 -->\n      <g transform=\"translate(7.2 138.425059)scale(0.1 -0.1)\">\n       <use xlink:href=\"#DejaVuSans-48\"/>\n       <use x=\"63.623047\" xlink:href=\"#DejaVuSans-46\"/>\n       <use x=\"95.410156\" xlink:href=\"#DejaVuSans-56\"/>\n      </g>\n     </g>\n    </g>\n    <g id=\"ytick_6\">\n     <g id=\"line2d_11\">\n      <g>\n       <use style=\"stroke:#000000;stroke-width:0.8;\" x=\"30.103125\" xlink:href=\"#m198af0d984\" y=\"114.021403\"/>\n      </g>\n     </g>\n     <g id=\"text_11\">\n      <!-- 1.0 -->\n      <defs>\n       <path d=\"M 12.40625 8.296875 \nL 28.515625 8.296875 \nL 28.515625 63.921875 \nL 10.984375 60.40625 \nL 10.984375 69.390625 \nL 28.421875 72.90625 \nL 38.28125 72.90625 \nL 38.28125 8.296875 \nL 54.390625 8.296875 \nL 54.390625 0 \nL 12.40625 0 \nz\n\" id=\"DejaVuSans-49\"/>\n      </defs>\n      <g transform=\"translate(7.2 117.820622)scale(0.1 -0.1)\">\n       <use xlink:href=\"#DejaVuSans-49\"/>\n       <use x=\"63.623047\" xlink:href=\"#DejaVuSans-46\"/>\n       <use x=\"95.410156\" xlink:href=\"#DejaVuSans-48\"/>\n      </g>\n     </g>\n    </g>\n    <g id=\"ytick_7\">\n     <g id=\"line2d_12\">\n      <g>\n       <use style=\"stroke:#000000;stroke-width:0.8;\" x=\"30.103125\" xlink:href=\"#m198af0d984\" y=\"93.416966\"/>\n      </g>\n     </g>\n     <g id=\"text_12\">\n      <!-- 1.2 -->\n      <g transform=\"translate(7.2 97.216185)scale(0.1 -0.1)\">\n       <use xlink:href=\"#DejaVuSans-49\"/>\n       <use x=\"63.623047\" xlink:href=\"#DejaVuSans-46\"/>\n       <use x=\"95.410156\" xlink:href=\"#DejaVuSans-50\"/>\n      </g>\n     </g>\n    </g>\n    <g id=\"ytick_8\">\n     <g id=\"line2d_13\">\n      <g>\n       <use style=\"stroke:#000000;stroke-width:0.8;\" x=\"30.103125\" xlink:href=\"#m198af0d984\" y=\"72.812529\"/>\n      </g>\n     </g>\n     <g id=\"text_13\">\n      <!-- 1.4 -->\n      <g transform=\"translate(7.2 76.611748)scale(0.1 -0.1)\">\n       <use xlink:href=\"#DejaVuSans-49\"/>\n       <use x=\"63.623047\" xlink:href=\"#DejaVuSans-46\"/>\n       <use x=\"95.410156\" xlink:href=\"#DejaVuSans-52\"/>\n      </g>\n     </g>\n    </g>\n    <g id=\"ytick_9\">\n     <g id=\"line2d_14\">\n      <g>\n       <use style=\"stroke:#000000;stroke-width:0.8;\" x=\"30.103125\" xlink:href=\"#m198af0d984\" y=\"52.208093\"/>\n      </g>\n     </g>\n     <g id=\"text_14\">\n      <!-- 1.6 -->\n      <g transform=\"translate(7.2 56.007311)scale(0.1 -0.1)\">\n       <use xlink:href=\"#DejaVuSans-49\"/>\n       <use x=\"63.623047\" xlink:href=\"#DejaVuSans-46\"/>\n       <use x=\"95.410156\" xlink:href=\"#DejaVuSans-54\"/>\n      </g>\n     </g>\n    </g>\n    <g id=\"ytick_10\">\n     <g id=\"line2d_15\">\n      <g>\n       <use style=\"stroke:#000000;stroke-width:0.8;\" x=\"30.103125\" xlink:href=\"#m198af0d984\" y=\"31.603656\"/>\n      </g>\n     </g>\n     <g id=\"text_15\">\n      <!-- 1.8 -->\n      <g transform=\"translate(7.2 35.402874)scale(0.1 -0.1)\">\n       <use xlink:href=\"#DejaVuSans-49\"/>\n       <use x=\"63.623047\" xlink:href=\"#DejaVuSans-46\"/>\n       <use x=\"95.410156\" xlink:href=\"#DejaVuSans-56\"/>\n      </g>\n     </g>\n    </g>\n    <g id=\"ytick_11\">\n     <g id=\"line2d_16\">\n      <g>\n       <use style=\"stroke:#000000;stroke-width:0.8;\" x=\"30.103125\" xlink:href=\"#m198af0d984\" y=\"10.999219\"/>\n      </g>\n     </g>\n     <g id=\"text_16\">\n      <!-- 2.0 -->\n      <g transform=\"translate(7.2 14.798437)scale(0.1 -0.1)\">\n       <use xlink:href=\"#DejaVuSans-50\"/>\n       <use x=\"63.623047\" xlink:href=\"#DejaVuSans-46\"/>\n       <use x=\"95.410156\" xlink:href=\"#DejaVuSans-48\"/>\n      </g>\n     </g>\n    </g>\n   </g>\n   <g id=\"line2d_17\">\n    <path clip-path=\"url(#pef1808e588)\" d=\"M 45.321307 19.055022 \nL 79.139489 166.361883 \nL 112.95767 194.791933 \nL 146.775852 212.93799 \nL 180.594034 215.653093 \nL 214.412216 216.214568 \nL 248.230398 216.451005 \nL 282.04858 216.582785 \nL 315.866761 216.657461 \nL 349.684943 216.727749 \n\" style=\"fill:none;stroke:#1f77b4;stroke-linecap:square;stroke-width:1.5;\"/>\n   </g>\n   <g id=\"patch_3\">\n    <path d=\"M 30.103125 226.611386 \nL 30.103125 9.171386 \n\" style=\"fill:none;stroke:#000000;stroke-linecap:square;stroke-linejoin:miter;stroke-width:0.8;\"/>\n   </g>\n   <g id=\"patch_4\">\n    <path d=\"M 364.903125 226.611386 \nL 364.903125 9.171386 \n\" style=\"fill:none;stroke:#000000;stroke-linecap:square;stroke-linejoin:miter;stroke-width:0.8;\"/>\n   </g>\n   <g id=\"patch_5\">\n    <path d=\"M 30.103125 226.611386 \nL 364.903125 226.611386 \n\" style=\"fill:none;stroke:#000000;stroke-linecap:square;stroke-linejoin:miter;stroke-width:0.8;\"/>\n   </g>\n   <g id=\"patch_6\">\n    <path d=\"M 30.103125 9.171386 \nL 364.903125 9.171386 \n\" style=\"fill:none;stroke:#000000;stroke-linecap:square;stroke-linejoin:miter;stroke-width:0.8;\"/>\n   </g>\n  </g>\n </g>\n <defs>\n  <clipPath id=\"pef1808e588\">\n   <rect height=\"217.44\" width=\"334.8\" x=\"30.103125\" y=\"9.171386\"/>\n  </clipPath>\n </defs>\n</svg>\n",
      "image/png": "[encoded data removed]"
     },
     "metadata": {
      "needs_background": "light"
     }
    }
   ],
   "source": [
    "hidden_size = 256\n",
    "encoder1 = EncoderRNN(lang.n_words, hidden_size).to(device)\n",
    "attn_decoder1 = AttnDecoderRNN(hidden_size, lang.n_words, dropout_p=0.1).to(device)\n",
    "pairs = pairs\n",
    "trainIters(encoder1, attn_decoder1, 1000, print_every=200)"
   ]
  },
  {
   "cell_type": "code",
   "execution_count": 159,
   "metadata": {
    "tags": [
     "outputPrepend",
     "outputPrepend",
     "outputPrepend",
     "outputPrepend"
    ]
   },
   "outputs": [
    {
     "output_type": "stream",
     "name": "stdout",
     "text": "> @ Override\nArrayList < Worker > setWorkers ( int num ) {\nArrayList < Worker > ws = new ArrayList < Worker > ( num ) ;\nfor ( int i = 0 ; i < num ; i ++ ) {\nws . add ( new ArrayTransposeWorker ( this , i + 1 ) ) ;\n}\nreturn ws ;\n}\n@ Override\nArrayResult aggregateData ( ) {\nint rows = ( ( ArrayResult ) this . getAllResultData ( )\n= . get ( this . getAllResultData ( ) . keys ( ) . nextElement ( ) ) ) . data . length ;\n< . get ( this . getAllResultData ( ) . keys ( ) . nextElement ( ) ) ) . data . length ; <EOS>\n\n> @ Override\nArrayList < Worker > setWorkers ( int num ) {\nArrayList < Worker > ws = new ArrayList < Worker > ( num ) ;\nfor ( int i = 0 ; i < num ; i ++ ) {\nws . add ( new ArrayTransposeWorker ( this , i + 1 ) ) ;\n}\nreturn ws ;\n}\n@ Override\nArrayResult aggregateData ( ) {\n= int rows = ( ( ArrayResult ) this . getAllResultData ( )\n< int rows = ( ( ArrayResult ) this . getAllResultData ( ) <EOS>\n\n> @ Override\nArrayList < Worker > setWorkers ( int num ) {\nArrayList < Worker > ws = new ArrayList < Worker > ( num ) ;\nfor ( int i = 0 ; i < num ; i ++ ) {\nws . add ( new ArrayTransposeWorker ( this , i + 1 ) ) ;\n}\nreturn ws ;\n}\n@ Override\nArrayResult aggregateData ( ) {\n= int rows = ( ( ArrayResult ) this . getAllResultData ( )\n< int rows = ( ( ArrayResult ) this . getAllResultData ( ) <EOS>\n\n> @ Override\nArrayList < Worker > setWorkers ( int num ) {\nArrayList < Worker > ws = new ArrayList < Worker > ( num ) ;\nfor ( int i = 0 ; i < num ; i ++ ) {\nws . add ( new ArrayTransposeWorker ( this , i + 1 ) ) ;\n}\nreturn ws ;\n}\n@ Override\nArrayResult aggregateData ( ) {\n= int rows = ( ( ArrayResult ) this . getAllResultData ( )\n< int rows = ( ( ArrayResult ) this . getAllResultData ( ) <EOS>\n\n> @ Override\nArrayList < Worker > setWorkers ( int num ) {\nArrayList < Worker > ws = new ArrayList < Worker > ( num ) ;\nfor ( int i = 0 ; i < num ; i ++ ) {\nws . add ( new ArrayTransposeWorker ( this , i + 1 ) ) ;\n}\nreturn ws ;\n}\n@ Override\nArrayResult aggregateData ( ) {\nint rows = ( ( ArrayResult ) this . getAllResultData ( )\n= . get ( this . getAllResultData ( ) . keys ( ) . nextElement ( ) ) ) . data . length ;\n< . get ( this . getAllResultData ( ) . keys ( ) . nextElement ( ) ) ) . data . length ; <EOS>\n\n> @ Override\nArrayList < Worker > setWorkers ( int num ) {\nArrayList < Worker > ws = new ArrayList < Worker > ( num ) ;\nfor ( int i = 0 ; i < num ; i ++ ) {\nws . add ( new ArrayTransposeWorker ( this , i + 1 ) ) ;\n}\nreturn ws ;\n}\n@ Override\nArrayResult aggregateData ( ) {\n= int rows = ( ( ArrayResult ) this . getAllResultData ( )\n< int rows = ( ( ArrayResult ) this . getAllResultData ( ) <EOS>\n\n> @ Override\nArrayList < Worker > setWorkers ( int num ) {\nArrayList < Worker > ws = new ArrayList < Worker > ( num ) ;\nfor ( int i = 0 ; i < num ; i ++ ) {\nws . add ( new ArrayTransposeWorker ( this , i + 1 ) ) ;\n}\nreturn ws ;\n}\n@ Override\nArrayResult aggregateData ( ) {\nint rows = ( ( ArrayResult ) this . getAllResultData ( )\n= . get ( this . getAllResultData ( ) . keys ( ) . nextElement ( ) ) ) . data . length ;\n< . get ( this . getAllResultData ( ) . keys ( ) . nextElement ( ) ) ) . data . length ; <EOS>\n\n> @ Override\nArrayList < Worker > setWorkers ( int num ) {\nArrayList < Worker > ws = new ArrayList < Worker > ( num ) ;\nfor ( int i = 0 ; i < num ; i ++ ) {\nws . add ( new ArrayTransposeWorker ( this , i + 1 ) ) ;\n}\nreturn ws ;\n}\n@ Override\nArrayResult aggregateData ( ) {\n= int rows = ( ( ArrayResult ) this . getAllResultData ( )\n< int rows = ( ( ArrayResult ) this . getAllResultData ( ) <EOS>\n\n> @ Override\nArrayList < Worker > setWorkers ( int num ) {\nArrayList < Worker > ws = new ArrayList < Worker > ( num ) ;\nfor ( int i = 0 ; i < num ; i ++ ) {\nws . add ( new ArrayTransposeWorker ( this , i + 1 ) ) ;\n}\nreturn ws ;\n}\n@ Override\nArrayResult aggregateData ( ) {\n= int rows = ( ( ArrayResult ) this . getAllResultData ( )\n< int rows = ( ( ArrayResult ) this . getAllResultData ( ) <EOS>\n\n> @ Override\nArrayList < Worker > setWorkers ( int num ) {\nArrayList < Worker > ws = new ArrayList < Worker > ( num ) ;\nfor ( int i = 0 ; i < num ; i ++ ) {\nws . add ( new ArrayTransposeWorker ( this , i + 1 ) ) ;\n}\nreturn ws ;\n}\n@ Override\nArrayResult aggregateData ( ) {\nint rows = ( ( ArrayResult ) this . getAllResultData ( )\n= . get ( this . getAllResultData ( ) . keys ( ) . nextElement ( ) ) ) . data . length ;\n< . get ( this . getAllResultData ( ) . keys ( ) . nextElement ( ) ) ) . data . length ; <EOS>\n\n"
    }
   ],
   "source": [
    "evaluateRandomly(encoder1, attn_decoder1)"
   ]
  },
  {
   "cell_type": "code",
   "execution_count": 157,
   "metadata": {},
   "outputs": [
    {
     "output_type": "execute_result",
     "data": {
      "text/plain": "[('@ Override\\nArrayList < Worker > setWorkers ( int num ) {\\nArrayList < Worker > ws = new ArrayList < Worker > ( num ) ;\\nfor ( int i = 0 ; i < num ; i ++ ) {\\nws . add ( new ArrayTransposeWorker ( this , i + 1 ) ) ;\\n}\\nreturn ws ;\\n}\\n@ Override\\nArrayResult aggregateData ( ) {',\n  'int rows = ( ( ArrayResult ) this . getAllResultData ( )'),\n ('@ Override\\nArrayList < Worker > setWorkers ( int num ) {\\nArrayList < Worker > ws = new ArrayList < Worker > ( num ) ;\\nfor ( int i = 0 ; i < num ; i ++ ) {\\nws . add ( new ArrayTransposeWorker ( this , i + 1 ) ) ;\\n}\\nreturn ws ;\\n}\\n@ Override\\nArrayResult aggregateData ( ) {\\nint rows = ( ( ArrayResult ) this . getAllResultData ( )',\n  '. get ( this . getAllResultData ( ) . keys ( ) . nextElement ( ) ) ) . data . length ;'),\n ('@ Override\\nArrayList < Worker > setWorkers ( int num ) {\\nArrayList < Worker > ws = new ArrayList < Worker > ( num ) ;\\nfor ( int i = 0 ; i < num ; i ++ ) {\\nws . add ( new ArrayTransposeWorker ( this , i + 1 ) ) ;\\n}\\nreturn ws ;\\n}\\n@ Override\\nArrayResult aggregateData ( ) {\\nint rows = ( ( ArrayResult ) this . getAllResultData ( )\\n. get ( this . getAllResultData ( ) . keys ( ) . nextElement ( ) ) ) . data . length ;',\n  'int columns ='),\n ('@ Override\\nArrayList < Worker > setWorkers ( int num ) {\\nArrayList < Worker > ws = new ArrayList < Worker > ( num ) ;\\nfor ( int i = 0 ; i < num ; i ++ ) {\\nws . add ( new ArrayTransposeWorker ( this , i + 1 ) ) ;\\n}\\nreturn ws ;\\n}\\n@ Override\\nArrayResult aggregateData ( ) {\\nint rows = ( ( ArrayResult ) this . getAllResultData ( )\\n. get ( this . getAllResultData ( ) . keys ( ) . nextElement ( ) ) ) . data . length ;\\nint columns =',\n  '0 ;'),\n ('@ Override\\nArrayList < Worker > setWorkers ( int num ) {\\nArrayList < Worker > ws = new ArrayList < Worker > ( num ) ;\\nfor ( int i = 0 ; i < num ; i ++ ) {\\nws . add ( new ArrayTransposeWorker ( this , i + 1 ) ) ;\\n}\\nreturn ws ;\\n}\\n@ Override\\nArrayResult aggregateData ( ) {\\nint rows = ( ( ArrayResult ) this . getAllResultData ( )\\n. get ( this . getAllResultData ( ) . keys ( ) . nextElement ( ) ) ) . data . length ;\\nint columns =\\n0 ;',\n  'for ( Enumeration < Integer > e = this . getAllResultData ( ) . keys ( ) ; e . hasMoreElements ( ) ; ) {'),\n ('@ Override\\nArrayList < Worker > setWorkers ( int num ) {\\nArrayList < Worker > ws = new ArrayList < Worker > ( num ) ;\\nfor ( int i = 0 ; i < num ; i ++ ) {\\nws . add ( new ArrayTransposeWorker ( this , i + 1 ) ) ;\\n}\\nreturn ws ;\\n}\\n@ Override\\nArrayResult aggregateData ( ) {\\nint rows = ( ( ArrayResult ) this . getAllResultData ( )\\n. get ( this . getAllResultData ( ) . keys ( ) . nextElement ( ) ) ) . data . length ;\\nint columns =\\n0 ;\\n',\n  'columns += ( ( ArrayResult ) this . getAllResultData ( ) . get ( e . nextElement ( ) ) ) . data [ 0 ] . length ;'),\n ('@ Override\\nArrayList < Worker > setWorkers ( int num ) {\\nArrayList < Worker > ws = new ArrayList < Worker > ( num ) ;\\nfor ( int i = 0 ; i < num ; i ++ ) {\\nws . add ( new ArrayTransposeWorker ( this , i + 1 ) ) ;\\n}\\nreturn ws ;\\n}\\n@ Override\\nArrayResult aggregateData ( ) {\\nint rows = ( ( ArrayResult ) this . getAllResultData ( )\\n. get ( this . getAllResultData ( ) . keys ( ) . nextElement ( ) ) ) . data . length ;\\nint columns =\\n0 ;\\n',\n  '}'),\n ('@ Override\\nArrayList < Worker > setWorkers ( int num ) {\\nArrayList < Worker > ws = new ArrayList < Worker > ( num ) ;\\nfor ( int i = 0 ; i < num ; i ++ ) {\\nws . add ( new ArrayTransposeWorker ( this , i + 1 ) ) ;\\n}\\nreturn ws ;\\n}\\n@ Override\\nArrayResult aggregateData ( ) {\\nint rows = ( ( ArrayResult ) this . getAllResultData ( )\\n. get ( this . getAllResultData ( ) . keys ( ) . nextElement ( ) ) ) . data . length ;\\nint columns =\\n0 ;\\n',\n  'int [ ] [ ] resultData = new int [ rows ] [ columns ] ;'),\n ('@ Override\\nArrayList < Worker > setWorkers ( int num ) {\\nArrayList < Worker > ws = new ArrayList < Worker > ( num ) ;\\nfor ( int i = 0 ; i < num ; i ++ ) {\\nws . add ( new ArrayTransposeWorker ( this , i + 1 ) ) ;\\n}\\nreturn ws ;\\n}\\n@ Override\\nArrayResult aggregateData ( ) {\\nint rows = ( ( ArrayResult ) this . getAllResultData ( )\\n. get ( this . getAllResultData ( ) . keys ( ) . nextElement ( ) ) ) . data . length ;\\nint columns =\\n0 ;\\n',\n  'int columnsDone = 0 ;'),\n ('@ Override\\nArrayList < Worker > setWorkers ( int num ) {\\nArrayList < Worker > ws = new ArrayList < Worker > ( num ) ;\\nfor ( int i = 0 ; i < num ; i ++ ) {\\nws . add ( new ArrayTransposeWorker ( this , i + 1 ) ) ;\\n}\\nreturn ws ;\\n}\\n@ Override\\nArrayResult aggregateData ( ) {\\nint rows = ( ( ArrayResult ) this . getAllResultData ( )\\n. get ( this . getAllResultData ( ) . keys ( ) . nextElement ( ) ) ) . data . length ;\\nint columns =\\n0 ;\\n',\n  'for ( int i = 0 ; i < this . getExpectedNumResults ( ) ; i ++ ) {'),\n ('@ Override\\nArrayList < Worker > setWorkers ( int num ) {\\nArrayList < Worker > ws = new ArrayList < Worker > ( num ) ;\\nfor ( int i = 0 ; i < num ; i ++ ) {\\nws . add ( new ArrayTransposeWorker ( this , i + 1 ) ) ;\\n}\\nreturn ws ;\\n}\\n@ Override\\nArrayResult aggregateData ( ) {\\nint rows = ( ( ArrayResult ) this . getAllResultData ( )\\n. get ( this . getAllResultData ( ) . keys ( ) . nextElement ( ) ) ) . data . length ;\\nint columns =\\n0 ;\\n',\n  'int [ ] [ ] work ='),\n ('@ Override\\nArrayList < Worker > setWorkers ( int num ) {\\nArrayList < Worker > ws = new ArrayList < Worker > ( num ) ;\\nfor ( int i = 0 ; i < num ; i ++ ) {\\nws . add ( new ArrayTransposeWorker ( this , i + 1 ) ) ;\\n}\\nreturn ws ;\\n}\\n@ Override\\nArrayResult aggregateData ( ) {\\nint rows = ( ( ArrayResult ) this . getAllResultData ( )\\n. get ( this . getAllResultData ( ) . keys ( ) . nextElement ( ) ) ) . data . length ;\\nint columns =\\n0 ;\\n',\n  '( ( ArrayResult ) this . getAllResultData ( ) . get ( this . getWorkers ( ) . get ( i ) . getWorkerId ( ) ) ) . data ;'),\n ('@ Override\\nArrayList < Worker > setWorkers ( int num ) {\\nArrayList < Worker > ws = new ArrayList < Worker > ( num ) ;\\nfor ( int i = 0 ; i < num ; i ++ ) {\\nws . add ( new ArrayTransposeWorker ( this , i + 1 ) ) ;\\n}\\nreturn ws ;\\n}\\n@ Override\\nArrayResult aggregateData ( ) {\\nint rows = ( ( ArrayResult ) this . getAllResultData ( )\\n. get ( this . getAllResultData ( ) . keys ( ) . nextElement ( ) ) ) . data . length ;\\nint columns =\\n0 ;\\n',\n  'for ( int m = 0 ; m < work . length ; m ++ ) {'),\n ('@ Override\\nArrayList < Worker > setWorkers ( int num ) {\\nArrayList < Worker > ws = new ArrayList < Worker > ( num ) ;\\nfor ( int i = 0 ; i < num ; i ++ ) {\\nws . add ( new ArrayTransposeWorker ( this , i + 1 ) ) ;\\n}\\nreturn ws ;\\n}\\n@ Override\\nArrayResult aggregateData ( ) {\\nint rows = ( ( ArrayResult ) this . getAllResultData ( )\\n. get ( this . getAllResultData ( ) . keys ( ) . nextElement ( ) ) ) . data . length ;\\nint columns =\\n0 ;\\n',\n  'for ( int n = 0 ; n < work [ 0 ] . length ; n ++ ) {'),\n ('@ Override\\nArrayList < Worker > setWorkers ( int num ) {\\nArrayList < Worker > ws = new ArrayList < Worker > ( num ) ;\\nfor ( int i = 0 ; i < num ; i ++ ) {\\nws . add ( new ArrayTransposeWorker ( this , i + 1 ) ) ;\\n}\\nreturn ws ;\\n}\\n@ Override\\nArrayResult aggregateData ( ) {\\nint rows = ( ( ArrayResult ) this . getAllResultData ( )\\n. get ( this . getAllResultData ( ) . keys ( ) . nextElement ( ) ) ) . data . length ;\\nint columns =\\n0 ;\\n',\n  'resultData [ m ] [ columnsDone + n ] = work [ m ] [ n ] ;'),\n ('@ Override\\nArrayList < Worker > setWorkers ( int num ) {\\nArrayList < Worker > ws = new ArrayList < Worker > ( num ) ;\\nfor ( int i = 0 ; i < num ; i ++ ) {\\nws . add ( new ArrayTransposeWorker ( this , i + 1 ) ) ;\\n}\\nreturn ws ;\\n}\\n@ Override\\nArrayResult aggregateData ( ) {\\nint rows = ( ( ArrayResult ) this . getAllResultData ( )\\n. get ( this . getAllResultData ( ) . keys ( ) . nextElement ( ) ) ) . data . length ;\\nint columns =\\n0 ;\\n',\n  '}'),\n ('@ Override\\nArrayList < Worker > setWorkers ( int num ) {\\nArrayList < Worker > ws = new ArrayList < Worker > ( num ) ;\\nfor ( int i = 0 ; i < num ; i ++ ) {\\nws . add ( new ArrayTransposeWorker ( this , i + 1 ) ) ;\\n}\\nreturn ws ;\\n}\\n@ Override\\nArrayResult aggregateData ( ) {\\nint rows = ( ( ArrayResult ) this . getAllResultData ( )\\n. get ( this . getAllResultData ( ) . keys ( ) . nextElement ( ) ) ) . data . length ;\\nint columns =\\n0 ;\\n',\n  '}'),\n ('@ Override\\nArrayList < Worker > setWorkers ( int num ) {\\nArrayList < Worker > ws = new ArrayList < Worker > ( num ) ;\\nfor ( int i = 0 ; i < num ; i ++ ) {\\nws . add ( new ArrayTransposeWorker ( this , i + 1 ) ) ;\\n}\\nreturn ws ;\\n}\\n@ Override\\nArrayResult aggregateData ( ) {\\nint rows = ( ( ArrayResult ) this . getAllResultData ( )\\n. get ( this . getAllResultData ( ) . keys ( ) . nextElement ( ) ) ) . data . length ;\\nint columns =\\n0 ;\\n',\n  'columnsDone += work [ 0 ] . length ;'),\n ('@ Override\\nArrayList < Worker > setWorkers ( int num ) {\\nArrayList < Worker > ws = new ArrayList < Worker > ( num ) ;\\nfor ( int i = 0 ; i < num ; i ++ ) {\\nws . add ( new ArrayTransposeWorker ( this , i + 1 ) ) ;\\n}\\nreturn ws ;\\n}\\n@ Override\\nArrayResult aggregateData ( ) {\\nint rows = ( ( ArrayResult ) this . getAllResultData ( )\\n. get ( this . getAllResultData ( ) . keys ( ) . nextElement ( ) ) ) . data . length ;\\nint columns =\\n0 ;\\n',\n  '}'),\n ('@ Override\\nArrayList < Worker > setWorkers ( int num ) {\\nArrayList < Worker > ws = new ArrayList < Worker > ( num ) ;\\nfor ( int i = 0 ; i < num ; i ++ ) {\\nws . add ( new ArrayTransposeWorker ( this , i + 1 ) ) ;\\n}\\nreturn ws ;\\n}\\n@ Override\\nArrayResult aggregateData ( ) {\\nint rows = ( ( ArrayResult ) this . getAllResultData ( )\\n. get ( this . getAllResultData ( ) . keys ( ) . nextElement ( ) ) ) . data . length ;\\nint columns =\\n0 ;\\n',\n  'return new ArrayResult ( resultData ) ;')]"
     },
     "metadata": {},
     "execution_count": 157
    }
   ],
   "source": [
    "pairs"
   ]
  },
  {
   "cell_type": "code",
   "execution_count": 24,
   "metadata": {},
   "outputs": [
    {
     "output_type": "execute_result",
     "data": {
      "text/plain": "5391"
     },
     "metadata": {},
     "execution_count": 24
    }
   ],
   "source": [
    "lang.n_words"
   ]
  },
  {
   "cell_type": "code",
   "execution_count": 27,
   "metadata": {},
   "outputs": [
    {
     "output_type": "execute_result",
     "data": {
      "text/plain": "[('thank you doctor , after doing all these i can upload all for further query .',\n  '. you to revert and see will i . only query this in upload , yes , hi'),\n ('i have covid 19 symptoms ?',\n  \". say to impossible 's it details any without\"),\n ('do i have covid 19 ?', \". say to impossible 's it details any without\"),\n ('is the coronavirus 229e the same as covid-19 ?',\n  '. viruses different but , ) covid-19 of cause the ( sars-cov-2 to related biologically . colds common cause that coronaviruses several of one is cov229e'),\n ('where can i be tested for covid 19 ?',\n  '. live you where is up set your what here idea no have we , department health local , doctor local your'),\n ('am i at risk for covid-19 in the united states ?',\n  '. measures prophylactic important most the probably are recommendations washing hand following and travel avoiding . us in weeks few next the over up pick likely will infections covid'),\n ('should i shave my beard to reduce my chances of contracting coronavirus / covid-19 ?',\n  '. off shave or alcohol with spray and day a times few a beard your wash either . hairs especially everything to clings virus this yes : brief in'),\n ('can taking extra steps for self-care ( like staying hydrated , getting more sleep ) every day help prevent you from catching the coronavirus or the flu ?',\n  '. nutrition good and shape good in body the keep to helps it yes : brief in'),\n ('do i have covid 19 ?',\n  \"? me with chat text or video to like you would . say to impossible 's it details any without unknown : brief in\"),\n ('will getting either of the pneumonia vaccines , prevnar and pneumovax , prevent you from developing pneumonia if you catch the flu or covid ?',\n  '. pneumonia viral on effect no have they . pneumonia bacterial prevent vaccines the . no'),\n ('how do i know if i have corona virus ?', '! tested get , sure be to'),\n ('if i leave covid 19 infected product in fridge , will virus die or survive in the fridge ?',\n  '. . way this sources food via virus of transfer no is there that shows food frozen from data . covid'),\n ('i hear covid 19 virus dies around 27c . does it mean once temperature outside rises above 27 c all covid 19 viruses outside will be dead ?',\n  '. it kill does c +56 it kill not does c -80 . hope might one as . fragile as not'),\n ('if i have had a sore throat for 3 days but with no fever should i be tested for covid-19 ?',\n  'call'),\n ('how do i book a virtual consultation with my doctor for covid-19 ?',\n  \"? me with chat text or video to like you would instructions for office 's doctor your call doctor your call : brief in\"),\n ('i also have a dry throat sometimes its feels like there is something stuck or putting pressure on my throat ?',\n  '? patient virus corona a with contact into come or travelled you have . info more need'),\n ('i have a 2 years old with cough n fever sweating which is worse at night , can she b tested for covid19 ?',\n  '? me with chat text or video to like you would . advise for doctor your call yes : brief in'),\n ('i use athraway chronic for rheumatoid arthritis , will this complicate things relating to the corona virus ?',\n  '. virus corona on effect any have will it think not do i . no'),\n ('i have a prolia injection appointment at the beginning of april . will it be safer to postpone the appointment because of the covid-19 situation ? prolia appointment',\n  '. . least at weeks 2-4 by treatment the postpone can you definitely . yes . postpone yes'),\n ('hi , can i use oralcon birth control pills even though we have the coronavirus epademic ?',\n  '? me with chat text or video to like you would . virus the and bcp using to contraindication any of unaware am i yes : brief in'),\n ('is it safe to eat food prepared by someone with coronavirus ? even if they wear a mask and gloves ?',\n  '. food prepare to enough protectve not is gear protective the . skip to better'),\n ('can the meat i eat give me coronavirus ? will cooking kill the coronavirus ?',\n  '. microwave , of sec virus-30 the kill will adequately cooking . kill will cooking'),\n ('does a virus cause lesions dry and oily nose',\n  '? me with chat text or video to like you would discharge moist increase nose runny cause to likely more not usually : brief in'),\n ('i am the main member of discovery , i want to complete a health covid assessment for my husband ? please let me know how to do so ?',\n  \"? me with chat text or video to like you would . discovery call to need 'll you discovery call : brief in\"),\n ('body ache and fever , scratchy itchy throat ?',\n  '! through follow then hospitalization possible and self-quarantine , testing regarding instructions get to provider care health your call ? covid-19 early'),\n ('i think i need to be tested for covid-19 ?',\n  '. wil dr ? symptoms concern/ your is what . patient dear . 19 covid'),\n ('vomiting , diarrhea , achey , dizzy and weak fever has kept rising and is now at 103 . 4 any advice ?',\n  '. . physician a by ordered tests get , hydrated stay , tylenol take . coronavirus even or flu , gastroenteritis infectious an have you seem . infection'),\n ('i travelled to mauritius and do not have symptoms . should i get tested for covid19 ?',\n  '. platform this use or physician care primary your contact , symptomatic if . days 14 for quarantine self suggest . quarantine self')]"
     },
     "metadata": {},
     "execution_count": 27
    }
   ],
   "source": [
    "pairs"
   ]
  },
  {
   "cell_type": "code",
   "execution_count": null,
   "metadata": {},
   "outputs": [],
   "source": []
  }
 ]
}