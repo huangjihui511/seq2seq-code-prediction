{
 "nbformat": 4,
 "nbformat_minor": 2,
 "metadata": {
  "language_info": {
   "name": "python",
   "codemirror_mode": {
    "name": "ipython",
    "version": 3
   },
   "version": "3.7.4-final"
  },
  "orig_nbformat": 2,
  "file_extension": ".py",
  "mimetype": "text/x-python",
  "name": "python",
  "npconvert_exporter": "python",
  "pygments_lexer": "ipython3",
  "version": 3,
  "kernelspec": {
   "name": "python37464bitc618d87d24fd41819fe0e569b8dfcad8",
   "display_name": "Python 3.7.4 64-bit"
  }
 },
 "cells": [
  {
   "cell_type": "code",
   "execution_count": 214,
   "metadata": {},
   "outputs": [],
   "source": [
    "path = \"data\"\n",
    "\n",
    "import os\n",
    "\n",
    "dirs = os.listdir(path)\n",
    "\n",
    "data = []\n",
    "for file in dirs:\n",
    "    f = open(os.path.join(path,file))\n",
    "    data.append(f.readlines())\n",
    "\n",
    "import json\n",
    "f = open(\"all_data.txt\", \"w\")\n",
    "json_str = json.dumps(data)\n",
    "json.dump(json_str,f)"
   ]
  },
  {
   "cell_type": "code",
   "execution_count": 217,
   "metadata": {},
   "outputs": [],
   "source": [
    "f = open(\"all_data.txt\")\n",
    "data = json.load(f)"
   ]
  },
  {
   "cell_type": "code",
   "execution_count": null,
   "metadata": {},
   "outputs": [],
   "source": [
    "import javalang\n",
    "\n",
    "num_not_use = 10\n",
    "num_in = 10\n",
    "def synax_file(strs):\n",
    "    lines = []\n",
    "    lines2 = []\n",
    "    try:\n",
    "        for str in strs:\n",
    "            tokens = list(javalang.tokenizer.tokenize(str))\n",
    "            #print(tokens)\n",
    "            line = \" \".join([item.value for item in tokens])\n",
    "            lines.append(line)\n",
    "        if len(lines) > num_in + num_not_use:\n",
    "            for i in range(len(lines) - (num_in + num_not_use)):\n",
    "                p = (\" \\n \".join(lines[num_not_use:i+(num_in + num_not_use)]),lines[i+(num_in + num_not_use)])\n",
    "                lines2.append(p)\n",
    "    except:\n",
    "        pass\n",
    "    return lines2\n",
    "\n",
    "data2 = []\n",
    "for d in data:\n",
    "    data2 += synax_file(d)\n",
    "\n",
    "data2[:3]"
   ]
  },
  {
   "cell_type": "code",
   "execution_count": 187,
   "metadata": {},
   "outputs": [
    {
     "output_type": "execute_result",
     "data": {
      "text/plain": "[('@ Override \\n ArrayList < Worker > setWorkers ( int num ) { \\n ArrayList < Worker > ws = new ArrayList < Worker > ( num ) ; \\n for ( int i = 0 ; i < num ; i ++ ) { \\n ws . add ( new ArrayTransposeWorker ( this , i + 1 ) ) ; \\n } \\n return ws ; \\n } \\n @ Override \\n ArrayResult aggregateData ( ) {',\n  'int rows = ( ( ArrayResult ) this . getAllResultData ( )'),\n ('@ Override \\n ArrayList < Worker > setWorkers ( int num ) { \\n ArrayList < Worker > ws = new ArrayList < Worker > ( num ) ; \\n for ( int i = 0 ; i < num ; i ++ ) { \\n ws . add ( new ArrayTransposeWorker ( this , i + 1 ) ) ; \\n } \\n return ws ; \\n } \\n @ Override \\n ArrayResult aggregateData ( ) { \\n int rows = ( ( ArrayResult ) this . getAllResultData ( )',\n  '. get ( this . getAllResultData ( ) . keys ( ) . nextElement ( ) ) ) . data . length ;'),\n ('@ Override \\n ArrayList < Worker > setWorkers ( int num ) { \\n ArrayList < Worker > ws = new ArrayList < Worker > ( num ) ; \\n for ( int i = 0 ; i < num ; i ++ ) { \\n ws . add ( new ArrayTransposeWorker ( this , i + 1 ) ) ; \\n } \\n return ws ; \\n } \\n @ Override \\n ArrayResult aggregateData ( ) { \\n int rows = ( ( ArrayResult ) this . getAllResultData ( ) \\n',\n  'int columns =')]"
     },
     "metadata": {},
     "execution_count": 187
    }
   ],
   "source": [
    "dictionary = {}\n",
    "MAX_LENGTH = 100\n",
    "\n",
    "shorten_sentences_flag = True\n",
    "words_min_times = 0\n",
    "reverse_flag = False\n",
    "\n",
    "def shorten_sentences(str):\n",
    "    strs = str.split(\"\\n\")\n",
    "    result = \"\"\n",
    "    length = 0\n",
    "    for i in range(len(strs)):\n",
    "        item = strs[i]\n",
    "        if len(item.split(\" \")) + length < MAX_LENGTH:\n",
    "            if i < len(strs) - 1:\n",
    "                result += item + \"\\n\"\n",
    "            else:\n",
    "                result += item\n",
    "                return result\n",
    "            length = len(result.split(\" \"))\n",
    "        else:\n",
    "            break\n",
    "    return result\n",
    "\n",
    "def clean_data(data):\n",
    "    for item in data:\n",
    "        for item2 in item:\n",
    "            words = item2.split(\" \")\n",
    "            for word in words:\n",
    "                dictionary.setdefault(word,0)\n",
    "                dictionary[word] += 1\n",
    "    data2 = []\n",
    "    for item in data:\n",
    "        temp = []\n",
    "        flag = 0\n",
    "        for item2 in item:\n",
    "            item2 = \" \".join([token for token in item2.split(\" \") if dictionary[token] > words_min_times])\n",
    "            \n",
    "            if reverse_flag and flag == 1:\n",
    "                item2 = \" \".join(reversed(item2.split(\" \")))\n",
    "            if shorten_sentences_flag:\n",
    "                item2 = shorten_sentences(item2)\n",
    "                \n",
    "            temp.append(item2)\n",
    "            flag += 1\n",
    "        temp = tuple(temp)\n",
    "        if temp[0] == \"\" or temp[1] == \"\":\n",
    "            continue\n",
    "        data2.append(temp)\n",
    "    return data2\n",
    "data2 = clean_data(data2)\n",
    "data2[:3]"
   ]
  },
  {
   "cell_type": "code",
   "execution_count": 189,
   "metadata": {},
   "outputs": [
    {
     "output_type": "execute_result",
     "data": {
      "text/plain": "'sha sia ajss. sdasds ss. ds ssa aa a .'"
     },
     "metadata": {},
     "execution_count": 189
    }
   ],
   "source": [
    "shorten_sentences(\"sha sia ajss. sdasds ss. ds ssa aa a .\")"
   ]
  },
  {
   "cell_type": "code",
   "execution_count": 49,
   "metadata": {},
   "outputs": [
    {
     "output_type": "execute_result",
     "data": {
      "text/plain": "('public Identifier0 Identifier1 ( Identifier2 Identifier3 , @ Identifier4 Identifier5 Identifier6 , @ Identifier4 Identifier7 Identifier8 ) {',\n 'Identifier0 Identifier9 = Identifier3 . Identifier10 ( Identifier11 . Identifier9 . Identifier12 , Identifier6 , false ) ;')"
     },
     "metadata": {},
     "execution_count": 49
    }
   ],
   "source": [
    "import json\n",
    "f = open(\"pair_methods2000.txt\")\n",
    "data2 = [(\" \".join(json.loads(line)[0]), \" \".join(json.loads(line)[1])) for line in f.readlines()]\n",
    "data2[0]"
   ]
  },
  {
   "cell_type": "code",
   "execution_count": 50,
   "metadata": {},
   "outputs": [],
   "source": [
    "from __future__ import unicode_literals, print_function, division\n",
    "from io import open\n",
    "import unicodedata\n",
    "import string\n",
    "import re\n",
    "import random\n",
    "\n",
    "import torch\n",
    "import torch.nn as nn\n",
    "from torch import optim\n",
    "import torch.nn.functional as F\n",
    "\n",
    "device = torch.device(\"cuda\" if torch.cuda.is_available() else \"cpu\")"
   ]
  },
  {
   "cell_type": "code",
   "execution_count": 51,
   "metadata": {},
   "outputs": [],
   "source": [
    "SOS_token = 0\n",
    "EOS_token = 1\n",
    "\n",
    "\n",
    "class Lang:\n",
    "    def __init__(self, name):\n",
    "        self.name = name\n",
    "        self.word2index = {}\n",
    "        self.word2count = {}\n",
    "        self.index2word = {0: \"SOS\", 1: \"EOS\"}\n",
    "        self.n_words = 2  # Count SOS and EOS\n",
    "\n",
    "    def addSentence(self, sentence):\n",
    "        for word in sentence.split(' '):\n",
    "            self.addWord(word)\n",
    "\n",
    "    def addWord(self, word):\n",
    "        if word not in self.word2index:\n",
    "            self.word2index[word] = self.n_words\n",
    "            self.word2count[word] = 1\n",
    "            self.index2word[self.n_words] = word\n",
    "            self.n_words += 1\n",
    "        else:\n",
    "            self.word2count[word] += 1"
   ]
  },
  {
   "cell_type": "code",
   "execution_count": 52,
   "metadata": {},
   "outputs": [],
   "source": [
    "# Turn a Unicode string to plain ASCII, thanks to\n",
    "# https://stackoverflow.com/a/518232/2809427\n",
    "def unicodeToAscii(s):\n",
    "    return ''.join(\n",
    "        c for c in unicodedata.normalize('NFD', s)\n",
    "        if unicodedata.category(c) != 'Mn'\n",
    "    )\n",
    "\n",
    "# Lowercase, trim, and remove non-letter characters\n",
    "\n",
    "\n",
    "def normalizeString(s):\n",
    "    #s = unicodeToAscii(s.lower().strip())\n",
    "    #s = re.sub(r\"([.!?\\'])\", r\" \\1\", s)\n",
    "    #s = re.sub(r\"[^a-zA-Z.!?]+\", r\" \", s)\n",
    "    return s"
   ]
  },
  {
   "cell_type": "code",
   "execution_count": 53,
   "metadata": {},
   "outputs": [],
   "source": [
    "def readLangs(lang):\n",
    "    print(\"Reading lines...\")\n",
    "    '''\n",
    "    # Read the file and split into lines\n",
    "    lines = open('data/%s-%s.txt' % (lang1, lang2), encoding='utf-8').\\\n",
    "        read().strip().split('\\n')\n",
    "\n",
    "    # Split every line into pairs and normalize\n",
    "    pairs = [[normalizeString(s) for s in l.split('\\t')] for l in lines]\n",
    "    '''\n",
    "    pairs = [(normalizeString(item[0]), normalizeString(item[1])) for item in data2]\n",
    "    # Reverse pairs, make Lang instances\n",
    "\n",
    "\n",
    "    lang = Lang(lang)\n",
    "\n",
    "    return lang, pairs"
   ]
  },
  {
   "cell_type": "code",
   "execution_count": 54,
   "metadata": {},
   "outputs": [],
   "source": [
    "MAX_LENGTH = 100\n",
    "eng_prefixes = (\n",
    "    \"i am \", \"i m \",\n",
    "    \"he is\", \"he s \",\n",
    "    \"she is\", \"she s \",\n",
    "    \"you are\", \"you re \",\n",
    "    \"we are\", \"we re \",\n",
    "    \"they are\", \"they re \"\n",
    ")\n",
    "\n",
    "\n",
    "def filterPair(p):\n",
    "    return len(p[0].split(' ')) < MAX_LENGTH and \\\n",
    "        len(p[1].split(' ')) < MAX_LENGTH\n",
    "\n",
    "\n",
    "def filterPairs(pairs):\n",
    "    return [pair for pair in pairs if filterPair(pair)]"
   ]
  },
  {
   "cell_type": "code",
   "execution_count": 55,
   "metadata": {
    "tags": [
     "outputPrepend"
    ]
   },
   "outputs": [
    {
     "output_type": "stream",
     "name": "stdout",
     "text": "Reading lines...\nRead 2000 sentence pairs\nTrimmed to 1329 sentence pairs\nCounting words...\nCounted words:\nlang 367\n('public < Identifier0 , Identifier1 > Identifier2 Identifier3 ( Identifier4 < Identifier0 , Identifier1 > Identifier5 ) { if ( Identifier5 == null ) { return null ; }', 'Identifier6 . Identifier7 . Identifier8 ( \"Map toString looks like: \" + Identifier5 . Identifier9 ( ) ) ;')\n"
    }
   ],
   "source": [
    "def prepareData(lang):\n",
    "    lang, pairs = readLangs(lang)\n",
    "    print(\"Read %s sentence pairs\" % len(pairs))\n",
    "    pairs = filterPairs(pairs)\n",
    "    print(\"Trimmed to %s sentence pairs\" % len(pairs))\n",
    "    print(\"Counting words...\")\n",
    "    for pair in pairs:\n",
    "        #print(pair)\n",
    "        lang.addSentence(pair[0])\n",
    "        lang.addSentence(pair[1])\n",
    "    print(\"Counted words:\")\n",
    "    print(lang.name, lang.n_words)\n",
    "    return lang, pairs\n",
    "\n",
    "\n",
    "lang, pairs = prepareData('lang')\n",
    "print(random.choice(pairs))"
   ]
  },
  {
   "cell_type": "code",
   "execution_count": 56,
   "metadata": {},
   "outputs": [],
   "source": [
    "class EncoderRNN(nn.Module):\n",
    "    def __init__(self, input_size, hidden_size):\n",
    "        super(EncoderRNN, self).__init__()\n",
    "        self.hidden_size = hidden_size\n",
    "\n",
    "        self.embedding = nn.Embedding(input_size, hidden_size)\n",
    "        self.gru = nn.GRU(hidden_size, hidden_size)\n",
    "\n",
    "    def forward(self, input, hidden):\n",
    "        embedded = self.embedding(input).view(1, 1, -1)\n",
    "        output = embedded\n",
    "        output, hidden = self.gru(output, hidden)\n",
    "        return output, hidden\n",
    "\n",
    "    def initHidden(self):\n",
    "        return torch.zeros(1, 1, self.hidden_size, device=device)"
   ]
  },
  {
   "cell_type": "code",
   "execution_count": 57,
   "metadata": {},
   "outputs": [],
   "source": [
    "class DecoderRNN(nn.Module):\n",
    "    def __init__(self, hidden_size, output_size):\n",
    "        super(DecoderRNN, self).__init__()\n",
    "        self.hidden_size = hidden_size\n",
    "\n",
    "        self.embedding = nn.Embedding(output_size, hidden_size)\n",
    "        self.gru = nn.GRU(hidden_size, hidden_size)\n",
    "        self.out = nn.Linear(hidden_size, output_size)\n",
    "        self.softmax = nn.LogSoftmax(dim=1)\n",
    "\n",
    "    def forward(self, input, hidden):\n",
    "        output = self.embedding(input).view(1, 1, -1)\n",
    "        output = F.relu(output)\n",
    "        output, hidden = self.gru(output, hidden)\n",
    "        output = self.softmax(self.out(output[0]))\n",
    "        return output, hidden\n",
    "\n",
    "    def initHidden(self):\n",
    "        return torch.zeros(1, 1, self.hidden_size, device=device)"
   ]
  },
  {
   "cell_type": "code",
   "execution_count": 58,
   "metadata": {},
   "outputs": [],
   "source": [
    "class AttnDecoderRNN(nn.Module):\n",
    "    def __init__(self, hidden_size, output_size, dropout_p=0.1, max_length=MAX_LENGTH):\n",
    "        super(AttnDecoderRNN, self).__init__()\n",
    "        self.hidden_size = hidden_size\n",
    "        self.output_size = output_size\n",
    "        self.dropout_p = dropout_p\n",
    "        self.max_length = max_length\n",
    "\n",
    "        self.embedding = nn.Embedding(self.output_size, self.hidden_size)\n",
    "        self.attn = nn.Linear(self.hidden_size * 2, self.max_length)\n",
    "        self.attn_combine = nn.Linear(self.hidden_size * 2, self.hidden_size)\n",
    "        self.dropout = nn.Dropout(self.dropout_p)\n",
    "        self.gru = nn.GRU(self.hidden_size, self.hidden_size)\n",
    "        self.out = nn.Linear(self.hidden_size, self.output_size)\n",
    "\n",
    "    def forward(self, input, hidden, encoder_outputs):\n",
    "        embedded = self.embedding(input).view(1, 1, -1)\n",
    "        embedded = self.dropout(embedded)\n",
    "\n",
    "        attn_weights = F.softmax(\n",
    "            self.attn(torch.cat((embedded[0], hidden[0]), 1)), dim=1)\n",
    "        attn_applied = torch.bmm(attn_weights.unsqueeze(0),\n",
    "                                 encoder_outputs.unsqueeze(0))\n",
    "\n",
    "        output = torch.cat((embedded[0], attn_applied[0]), 1)\n",
    "        output = self.attn_combine(output).unsqueeze(0)\n",
    "\n",
    "        output = F.relu(output)\n",
    "        output, hidden = self.gru(output, hidden)\n",
    "\n",
    "        output = F.log_softmax(self.out(output[0]), dim=1)\n",
    "        return output, hidden, attn_weights\n",
    "\n",
    "    def initHidden(self):\n",
    "        return torch.zeros(1, 1, self.hidden_size, device=device)"
   ]
  },
  {
   "cell_type": "code",
   "execution_count": 59,
   "metadata": {},
   "outputs": [],
   "source": [
    "def indexesFromSentence(lang, sentence):\n",
    "    return [lang.word2index[word] for word in sentence.split(' ')]\n",
    "\n",
    "\n",
    "def tensorFromSentence(lang, sentence):\n",
    "    indexes = indexesFromSentence(lang, sentence)\n",
    "    indexes.append(EOS_token)\n",
    "    return torch.tensor(indexes, dtype=torch.long, device=device).view(-1, 1)\n",
    "\n",
    "\n",
    "def tensorsFromPair(pair):\n",
    "    input_tensor = tensorFromSentence(lang, pair[0])\n",
    "    target_tensor = tensorFromSentence(lang, pair[1])\n",
    "    return (input_tensor, target_tensor)"
   ]
  },
  {
   "cell_type": "code",
   "execution_count": 60,
   "metadata": {},
   "outputs": [],
   "source": [
    "teacher_forcing_ratio = 0.5\n",
    "\n",
    "\n",
    "def train(input_tensor, target_tensor, encoder, decoder, encoder_optimizer, decoder_optimizer, criterion, max_length=MAX_LENGTH):\n",
    "    encoder_hidden = encoder.initHidden()\n",
    "\n",
    "    encoder_optimizer.zero_grad()\n",
    "    decoder_optimizer.zero_grad()\n",
    "\n",
    "    input_length = input_tensor.size(0)\n",
    "    target_length = target_tensor.size(0)\n",
    "\n",
    "    encoder_outputs = torch.zeros(max_length, encoder.hidden_size, device=device)\n",
    "\n",
    "    loss = 0\n",
    "\n",
    "    for ei in range(input_length):\n",
    "        encoder_output, encoder_hidden = encoder(\n",
    "            input_tensor[ei], encoder_hidden)\n",
    "        encoder_outputs[ei] = encoder_output[0, 0]\n",
    "\n",
    "    decoder_input = torch.tensor([[SOS_token]], device=device)\n",
    "\n",
    "    decoder_hidden = encoder_hidden\n",
    "\n",
    "    use_teacher_forcing = True if random.random() < teacher_forcing_ratio else False\n",
    "\n",
    "    if use_teacher_forcing:\n",
    "        # Teacher forcing: Feed the target as the next input\n",
    "        for di in range(target_length):\n",
    "            decoder_output, decoder_hidden, decoder_attention = decoder(\n",
    "                decoder_input, decoder_hidden, encoder_outputs)\n",
    "            loss += criterion(decoder_output, target_tensor[di])\n",
    "            decoder_input = target_tensor[di]  # Teacher forcing\n",
    "\n",
    "    else:\n",
    "        # Without teacher forcing: use its own predictions as the next input\n",
    "        for di in range(target_length):\n",
    "            decoder_output, decoder_hidden, decoder_attention = decoder(\n",
    "                decoder_input, decoder_hidden, encoder_outputs)\n",
    "            topv, topi = decoder_output.topk(1)\n",
    "            decoder_input = topi.squeeze().detach()  # detach from history as input\n",
    "\n",
    "            loss += criterion(decoder_output, target_tensor[di])\n",
    "            if decoder_input.item() == EOS_token:\n",
    "                break\n",
    "\n",
    "    loss.backward()\n",
    "\n",
    "    encoder_optimizer.step()\n",
    "    decoder_optimizer.step()\n",
    "\n",
    "    return loss.item() / target_length"
   ]
  },
  {
   "cell_type": "code",
   "execution_count": 61,
   "metadata": {},
   "outputs": [],
   "source": [
    "import time\n",
    "import math\n",
    "\n",
    "\n",
    "def asMinutes(s):\n",
    "    m = math.floor(s / 60)\n",
    "    s -= m * 60\n",
    "    return '%dm %ds' % (m, s)\n",
    "\n",
    "\n",
    "def timeSince(since, percent):\n",
    "    now = time.time()\n",
    "    s = now - since\n",
    "    es = s / (percent)\n",
    "    rs = es - s\n",
    "    return '%s (- %s)' % (asMinutes(s), asMinutes(rs))"
   ]
  },
  {
   "cell_type": "code",
   "execution_count": 62,
   "metadata": {},
   "outputs": [],
   "source": [
    "def trainIters(encoder, decoder, n_iters, print_every=1000, plot_every=100, learning_rate=0.01):\n",
    "    start = time.time()\n",
    "    plot_losses = []\n",
    "    print_loss_total = 0  # Reset every print_every\n",
    "    plot_loss_total = 0  # Reset every plot_every\n",
    "    print(\"the size of data is:\", len(pairs))\n",
    "    encoder_optimizer = optim.SGD(encoder.parameters(), lr=learning_rate)\n",
    "    decoder_optimizer = optim.SGD(decoder.parameters(), lr=learning_rate)\n",
    "    training_pairs = [tensorsFromPair(random.choice(pairs))\n",
    "                      for i in range(n_iters)]\n",
    "    criterion = nn.NLLLoss()\n",
    "\n",
    "    for iter in range(1, n_iters + 1):\n",
    "        training_pair = training_pairs[iter - 1]\n",
    "        input_tensor = training_pair[0]\n",
    "        target_tensor = training_pair[1]\n",
    "\n",
    "        loss = train(input_tensor, target_tensor, encoder,\n",
    "                     decoder, encoder_optimizer, decoder_optimizer, criterion)\n",
    "        print_loss_total += loss\n",
    "        plot_loss_total += loss\n",
    "\n",
    "        if iter % print_every == 0:\n",
    "            print_loss_avg = print_loss_total / print_every\n",
    "            print_loss_total = 0\n",
    "            print('%s (%d %d%%) %.4f' % (timeSince(start, iter / n_iters),\n",
    "                                         iter, iter / n_iters * 100, print_loss_avg))\n",
    "\n",
    "        if iter % plot_every == 0:\n",
    "            plot_loss_avg = plot_loss_total / plot_every\n",
    "            plot_losses.append(plot_loss_avg)\n",
    "            plot_loss_total = 0\n",
    "\n",
    "    showPlot(plot_losses)"
   ]
  },
  {
   "cell_type": "code",
   "execution_count": 63,
   "metadata": {},
   "outputs": [],
   "source": [
    "import matplotlib.pyplot as plt\n",
    "plt.switch_backend('agg')\n",
    "import matplotlib.ticker as ticker\n",
    "import numpy as np\n",
    "\n",
    "\n",
    "def showPlot(points):\n",
    "    plt.figure()\n",
    "    fig, ax = plt.subplots()\n",
    "    # this locator puts ticks at regular intervals\n",
    "    loc = ticker.MultipleLocator(base=0.2)\n",
    "    ax.yaxis.set_major_locator(loc)\n",
    "    plt.plot(points)"
   ]
  },
  {
   "cell_type": "code",
   "execution_count": 64,
   "metadata": {},
   "outputs": [],
   "source": [
    "def evaluate(encoder, decoder, sentence, max_length=MAX_LENGTH):\n",
    "    with torch.no_grad():\n",
    "        input_tensor = tensorFromSentence(lang, sentence)\n",
    "        input_length = input_tensor.size()[0]\n",
    "        encoder_hidden = encoder.initHidden()\n",
    "\n",
    "        encoder_outputs = torch.zeros(max_length, encoder.hidden_size, device=device)\n",
    "\n",
    "        for ei in range(input_length):\n",
    "            encoder_output, encoder_hidden = encoder(input_tensor[ei],\n",
    "                                                     encoder_hidden)\n",
    "            encoder_outputs[ei] += encoder_output[0, 0]\n",
    "\n",
    "        decoder_input = torch.tensor([[SOS_token]], device=device)  # SOS\n",
    "\n",
    "        decoder_hidden = encoder_hidden\n",
    "\n",
    "        decoded_words = []\n",
    "        decoder_attentions = torch.zeros(max_length, max_length)\n",
    "\n",
    "        for di in range(max_length):\n",
    "            decoder_output, decoder_hidden, decoder_attention = decoder(\n",
    "                decoder_input, decoder_hidden, encoder_outputs)\n",
    "            decoder_attentions[di] = decoder_attention.data\n",
    "            topv, topi = decoder_output.data.topk(1)\n",
    "            if topi.item() == EOS_token:\n",
    "                decoded_words.append('<EOS>')\n",
    "                break\n",
    "            else:\n",
    "                decoded_words.append(lang.index2word[topi.item()])\n",
    "\n",
    "            decoder_input = topi.squeeze().detach()\n",
    "\n",
    "        return decoded_words, decoder_attentions[:di + 1]"
   ]
  },
  {
   "cell_type": "code",
   "execution_count": 65,
   "metadata": {},
   "outputs": [],
   "source": [
    "def evaluateRandomly(encoder, decoder, n=10):\n",
    "    for i in range(n):\n",
    "        pair = random.choice(pairs)\n",
    "        print('>', pair[0])\n",
    "        p1 = pair[1].split(\" \")\n",
    "        if reverse_flag:\n",
    "            p1 = reseverd(p1)\n",
    "        print('=', \" \".join(p1))\n",
    "        output_words, attentions = evaluate(encoder, decoder, pair[0])\n",
    "        if reverse_flag:\n",
    "            output_words = reseverd(output_words)\n",
    "        output_sentence = ' '.join(output_words)\n",
    "        print('<', output_sentence)\n",
    "        print('')"
   ]
  },
  {
   "cell_type": "code",
   "execution_count": 66,
   "metadata": {},
   "outputs": [
    {
     "output_type": "stream",
     "name": "stdout",
     "text": "the size of data is: 1329\n0m 20s (- 16m 26s) (200 2%) 2.6968\n0m 37s (- 15m 6s) (400 4%) 2.4380\n0m 56s (- 14m 47s) (600 6%) 2.0697\n1m 15s (- 14m 24s) (800 8%) 1.9263\n1m 34s (- 14m 11s) (1000 10%) 2.0648\n1m 52s (- 13m 42s) (1200 12%) 2.1612\n2m 10s (- 13m 23s) (1400 14%) 1.9617\n2m 30s (- 13m 7s) (1600 16%) 1.8959\n2m 49s (- 12m 53s) (1800 18%) 1.9224\n3m 9s (- 12m 36s) (2000 20%) 1.8891\n3m 28s (- 12m 18s) (2200 22%) 2.1294\n3m 46s (- 11m 58s) (2400 24%) 2.1124\n4m 6s (- 11m 40s) (2600 26%) 1.9016\n4m 25s (- 11m 23s) (2800 28%) 2.1788\n4m 45s (- 11m 6s) (3000 30%) 2.0673\n5m 6s (- 10m 50s) (3200 32%) 2.0239\n5m 27s (- 10m 35s) (3400 34%) 1.7978\n5m 49s (- 10m 20s) (3600 36%) 1.6768\n6m 3s (- 9m 53s) (3800 38%) 1.8583\n6m 20s (- 9m 31s) (4000 40%) 1.6110\n6m 37s (- 9m 9s) (4200 42%) 1.7441\n6m 54s (- 8m 47s) (4400 44%) 1.7445\n7m 11s (- 8m 27s) (4600 46%) 1.8263\n7m 29s (- 8m 6s) (4800 48%) 1.8317\n7m 46s (- 7m 46s) (5000 50%) 1.7914\n8m 4s (- 7m 27s) (5200 52%) 1.8239\n8m 21s (- 7m 7s) (5400 54%) 1.7233\n8m 39s (- 6m 47s) (5600 56%) 1.8189\n8m 56s (- 6m 28s) (5800 57%) 1.6896\n9m 15s (- 6m 10s) (6000 60%) 1.6996\n9m 32s (- 5m 50s) (6200 62%) 1.7563\n9m 50s (- 5m 31s) (6400 64%) 1.6827\n10m 7s (- 5m 12s) (6600 66%) 1.6503\n10m 24s (- 4m 53s) (6800 68%) 1.6769\n10m 42s (- 4m 35s) (7000 70%) 1.8729\n11m 0s (- 4m 17s) (7200 72%) 1.7185\n11m 18s (- 3m 58s) (7400 74%) 1.5637\n11m 35s (- 3m 39s) (7600 76%) 1.7238\n11m 52s (- 3m 21s) (7800 78%) 1.6483\n12m 10s (- 3m 2s) (8000 80%) 1.5787\n12m 28s (- 2m 44s) (8200 82%) 1.6310\n12m 46s (- 2m 26s) (8400 84%) 1.5814\n13m 4s (- 2m 7s) (8600 86%) 1.5425\n13m 21s (- 1m 49s) (8800 88%) 1.4295\n13m 38s (- 1m 30s) (9000 90%) 1.4902\n13m 56s (- 1m 12s) (9200 92%) 1.4932\n14m 13s (- 0m 54s) (9400 94%) 1.4164\n14m 30s (- 0m 36s) (9600 96%) 1.6792\n14m 49s (- 0m 18s) (9800 98%) 1.5633\n15m 10s (- 0m 0s) (10000 100%) 1.4682\n"
    },
    {
     "output_type": "display_data",
     "data": {
      "text/plain": "<Figure size 432x288 with 0 Axes>"
     },
     "metadata": {}
    },
    {
     "output_type": "display_data",
     "data": {
      "text/plain": "<Figure size 432x288 with 1 Axes>",
      "image/svg+xml": "<?xml version=\"1.0\" encoding=\"utf-8\" standalone=\"no\"?>\n<!DOCTYPE svg PUBLIC \"-//W3C//DTD SVG 1.1//EN\"\n  \"http://www.w3.org/Graphics/SVG/1.1/DTD/svg11.dtd\">\n<!-- Created with matplotlib (https://matplotlib.org/) -->\n<svg height=\"250.389268pt\" version=\"1.1\" viewBox=\"0 0 372.103125 250.389268\" width=\"372.103125pt\" xmlns=\"http://www.w3.org/2000/svg\" xmlns:xlink=\"http://www.w3.org/1999/xlink\">\n <defs>\n  <style type=\"text/css\">\n*{stroke-linecap:butt;stroke-linejoin:round;}\n  </style>\n </defs>\n <g id=\"figure_1\">\n  <g id=\"patch_1\">\n   <path d=\"M 0 250.389268 \nL 372.103125 250.389268 \nL 372.103125 0 \nL 0 0 \nz\n\" style=\"fill:none;\"/>\n  </g>\n  <g id=\"axes_1\">\n   <g id=\"patch_2\">\n    <path d=\"M 30.103125 226.511143 \nL 364.903125 226.511143 \nL 364.903125 9.071143 \nL 30.103125 9.071143 \nz\n\" style=\"fill:#ffffff;\"/>\n   </g>\n   <g id=\"matplotlib.axis_1\">\n    <g id=\"xtick_1\">\n     <g id=\"line2d_1\">\n      <defs>\n       <path d=\"M 0 0 \nL 0 3.5 \n\" id=\"m9bea0bb188\" style=\"stroke:#000000;stroke-width:0.8;\"/>\n      </defs>\n      <g>\n       <use style=\"stroke:#000000;stroke-width:0.8;\" x=\"45.321307\" xlink:href=\"#m9bea0bb188\" y=\"226.511143\"/>\n      </g>\n     </g>\n     <g id=\"text_1\">\n      <!-- 0 -->\n      <defs>\n       <path d=\"M 31.78125 66.40625 \nQ 24.171875 66.40625 20.328125 58.90625 \nQ 16.5 51.421875 16.5 36.375 \nQ 16.5 21.390625 20.328125 13.890625 \nQ 24.171875 6.390625 31.78125 6.390625 \nQ 39.453125 6.390625 43.28125 13.890625 \nQ 47.125 21.390625 47.125 36.375 \nQ 47.125 51.421875 43.28125 58.90625 \nQ 39.453125 66.40625 31.78125 66.40625 \nz\nM 31.78125 74.21875 \nQ 44.046875 74.21875 50.515625 64.515625 \nQ 56.984375 54.828125 56.984375 36.375 \nQ 56.984375 17.96875 50.515625 8.265625 \nQ 44.046875 -1.421875 31.78125 -1.421875 \nQ 19.53125 -1.421875 13.0625 8.265625 \nQ 6.59375 17.96875 6.59375 36.375 \nQ 6.59375 54.828125 13.0625 64.515625 \nQ 19.53125 74.21875 31.78125 74.21875 \nz\n\" id=\"DejaVuSans-48\"/>\n      </defs>\n      <g transform=\"translate(42.140057 241.10958)scale(0.1 -0.1)\">\n       <use xlink:href=\"#DejaVuSans-48\"/>\n      </g>\n     </g>\n    </g>\n    <g id=\"xtick_2\">\n     <g id=\"line2d_2\">\n      <g>\n       <use style=\"stroke:#000000;stroke-width:0.8;\" x=\"106.80891\" xlink:href=\"#m9bea0bb188\" y=\"226.511143\"/>\n      </g>\n     </g>\n     <g id=\"text_2\">\n      <!-- 20 -->\n      <defs>\n       <path d=\"M 19.1875 8.296875 \nL 53.609375 8.296875 \nL 53.609375 0 \nL 7.328125 0 \nL 7.328125 8.296875 \nQ 12.9375 14.109375 22.625 23.890625 \nQ 32.328125 33.6875 34.8125 36.53125 \nQ 39.546875 41.84375 41.421875 45.53125 \nQ 43.3125 49.21875 43.3125 52.78125 \nQ 43.3125 58.59375 39.234375 62.25 \nQ 35.15625 65.921875 28.609375 65.921875 \nQ 23.96875 65.921875 18.8125 64.3125 \nQ 13.671875 62.703125 7.8125 59.421875 \nL 7.8125 69.390625 \nQ 13.765625 71.78125 18.9375 73 \nQ 24.125 74.21875 28.421875 74.21875 \nQ 39.75 74.21875 46.484375 68.546875 \nQ 53.21875 62.890625 53.21875 53.421875 \nQ 53.21875 48.921875 51.53125 44.890625 \nQ 49.859375 40.875 45.40625 35.40625 \nQ 44.1875 33.984375 37.640625 27.21875 \nQ 31.109375 20.453125 19.1875 8.296875 \nz\n\" id=\"DejaVuSans-50\"/>\n      </defs>\n      <g transform=\"translate(100.44641 241.10958)scale(0.1 -0.1)\">\n       <use xlink:href=\"#DejaVuSans-50\"/>\n       <use x=\"63.623047\" xlink:href=\"#DejaVuSans-48\"/>\n      </g>\n     </g>\n    </g>\n    <g id=\"xtick_3\">\n     <g id=\"line2d_3\">\n      <g>\n       <use style=\"stroke:#000000;stroke-width:0.8;\" x=\"168.296513\" xlink:href=\"#m9bea0bb188\" y=\"226.511143\"/>\n      </g>\n     </g>\n     <g id=\"text_3\">\n      <!-- 40 -->\n      <defs>\n       <path d=\"M 37.796875 64.3125 \nL 12.890625 25.390625 \nL 37.796875 25.390625 \nz\nM 35.203125 72.90625 \nL 47.609375 72.90625 \nL 47.609375 25.390625 \nL 58.015625 25.390625 \nL 58.015625 17.1875 \nL 47.609375 17.1875 \nL 47.609375 0 \nL 37.796875 0 \nL 37.796875 17.1875 \nL 4.890625 17.1875 \nL 4.890625 26.703125 \nz\n\" id=\"DejaVuSans-52\"/>\n      </defs>\n      <g transform=\"translate(161.934013 241.10958)scale(0.1 -0.1)\">\n       <use xlink:href=\"#DejaVuSans-52\"/>\n       <use x=\"63.623047\" xlink:href=\"#DejaVuSans-48\"/>\n      </g>\n     </g>\n    </g>\n    <g id=\"xtick_4\">\n     <g id=\"line2d_4\">\n      <g>\n       <use style=\"stroke:#000000;stroke-width:0.8;\" x=\"229.784117\" xlink:href=\"#m9bea0bb188\" y=\"226.511143\"/>\n      </g>\n     </g>\n     <g id=\"text_4\">\n      <!-- 60 -->\n      <defs>\n       <path d=\"M 33.015625 40.375 \nQ 26.375 40.375 22.484375 35.828125 \nQ 18.609375 31.296875 18.609375 23.390625 \nQ 18.609375 15.53125 22.484375 10.953125 \nQ 26.375 6.390625 33.015625 6.390625 \nQ 39.65625 6.390625 43.53125 10.953125 \nQ 47.40625 15.53125 47.40625 23.390625 \nQ 47.40625 31.296875 43.53125 35.828125 \nQ 39.65625 40.375 33.015625 40.375 \nz\nM 52.59375 71.296875 \nL 52.59375 62.3125 \nQ 48.875 64.0625 45.09375 64.984375 \nQ 41.3125 65.921875 37.59375 65.921875 \nQ 27.828125 65.921875 22.671875 59.328125 \nQ 17.53125 52.734375 16.796875 39.40625 \nQ 19.671875 43.65625 24.015625 45.921875 \nQ 28.375 48.1875 33.59375 48.1875 \nQ 44.578125 48.1875 50.953125 41.515625 \nQ 57.328125 34.859375 57.328125 23.390625 \nQ 57.328125 12.15625 50.6875 5.359375 \nQ 44.046875 -1.421875 33.015625 -1.421875 \nQ 20.359375 -1.421875 13.671875 8.265625 \nQ 6.984375 17.96875 6.984375 36.375 \nQ 6.984375 53.65625 15.1875 63.9375 \nQ 23.390625 74.21875 37.203125 74.21875 \nQ 40.921875 74.21875 44.703125 73.484375 \nQ 48.484375 72.75 52.59375 71.296875 \nz\n\" id=\"DejaVuSans-54\"/>\n      </defs>\n      <g transform=\"translate(223.421617 241.10958)scale(0.1 -0.1)\">\n       <use xlink:href=\"#DejaVuSans-54\"/>\n       <use x=\"63.623047\" xlink:href=\"#DejaVuSans-48\"/>\n      </g>\n     </g>\n    </g>\n    <g id=\"xtick_5\">\n     <g id=\"line2d_5\">\n      <g>\n       <use style=\"stroke:#000000;stroke-width:0.8;\" x=\"291.27172\" xlink:href=\"#m9bea0bb188\" y=\"226.511143\"/>\n      </g>\n     </g>\n     <g id=\"text_5\">\n      <!-- 80 -->\n      <defs>\n       <path d=\"M 31.78125 34.625 \nQ 24.75 34.625 20.71875 30.859375 \nQ 16.703125 27.09375 16.703125 20.515625 \nQ 16.703125 13.921875 20.71875 10.15625 \nQ 24.75 6.390625 31.78125 6.390625 \nQ 38.8125 6.390625 42.859375 10.171875 \nQ 46.921875 13.96875 46.921875 20.515625 \nQ 46.921875 27.09375 42.890625 30.859375 \nQ 38.875 34.625 31.78125 34.625 \nz\nM 21.921875 38.8125 \nQ 15.578125 40.375 12.03125 44.71875 \nQ 8.5 49.078125 8.5 55.328125 \nQ 8.5 64.0625 14.71875 69.140625 \nQ 20.953125 74.21875 31.78125 74.21875 \nQ 42.671875 74.21875 48.875 69.140625 \nQ 55.078125 64.0625 55.078125 55.328125 \nQ 55.078125 49.078125 51.53125 44.71875 \nQ 48 40.375 41.703125 38.8125 \nQ 48.828125 37.15625 52.796875 32.3125 \nQ 56.78125 27.484375 56.78125 20.515625 \nQ 56.78125 9.90625 50.3125 4.234375 \nQ 43.84375 -1.421875 31.78125 -1.421875 \nQ 19.734375 -1.421875 13.25 4.234375 \nQ 6.78125 9.90625 6.78125 20.515625 \nQ 6.78125 27.484375 10.78125 32.3125 \nQ 14.796875 37.15625 21.921875 38.8125 \nz\nM 18.3125 54.390625 \nQ 18.3125 48.734375 21.84375 45.5625 \nQ 25.390625 42.390625 31.78125 42.390625 \nQ 38.140625 42.390625 41.71875 45.5625 \nQ 45.3125 48.734375 45.3125 54.390625 \nQ 45.3125 60.0625 41.71875 63.234375 \nQ 38.140625 66.40625 31.78125 66.40625 \nQ 25.390625 66.40625 21.84375 63.234375 \nQ 18.3125 60.0625 18.3125 54.390625 \nz\n\" id=\"DejaVuSans-56\"/>\n      </defs>\n      <g transform=\"translate(284.90922 241.10958)scale(0.1 -0.1)\">\n       <use xlink:href=\"#DejaVuSans-56\"/>\n       <use x=\"63.623047\" xlink:href=\"#DejaVuSans-48\"/>\n      </g>\n     </g>\n    </g>\n    <g id=\"xtick_6\">\n     <g id=\"line2d_6\">\n      <g>\n       <use style=\"stroke:#000000;stroke-width:0.8;\" x=\"352.759323\" xlink:href=\"#m9bea0bb188\" y=\"226.511143\"/>\n      </g>\n     </g>\n     <g id=\"text_6\">\n      <!-- 100 -->\n      <defs>\n       <path d=\"M 12.40625 8.296875 \nL 28.515625 8.296875 \nL 28.515625 63.921875 \nL 10.984375 60.40625 \nL 10.984375 69.390625 \nL 28.421875 72.90625 \nL 38.28125 72.90625 \nL 38.28125 8.296875 \nL 54.390625 8.296875 \nL 54.390625 0 \nL 12.40625 0 \nz\n\" id=\"DejaVuSans-49\"/>\n      </defs>\n      <g transform=\"translate(343.215573 241.10958)scale(0.1 -0.1)\">\n       <use xlink:href=\"#DejaVuSans-49\"/>\n       <use x=\"63.623047\" xlink:href=\"#DejaVuSans-48\"/>\n       <use x=\"127.246094\" xlink:href=\"#DejaVuSans-48\"/>\n      </g>\n     </g>\n    </g>\n   </g>\n   <g id=\"matplotlib.axis_2\">\n    <g id=\"ytick_1\">\n     <g id=\"line2d_7\">\n      <defs>\n       <path d=\"M 0 0 \nL -3.5 0 \n\" id=\"mf61353d587\" style=\"stroke:#000000;stroke-width:0.8;\"/>\n      </defs>\n      <g>\n       <use style=\"stroke:#000000;stroke-width:0.8;\" x=\"30.103125\" xlink:href=\"#mf61353d587\" y=\"211.562815\"/>\n      </g>\n     </g>\n     <g id=\"text_7\">\n      <!-- 1.4 -->\n      <defs>\n       <path d=\"M 10.6875 12.40625 \nL 21 12.40625 \nL 21 0 \nL 10.6875 0 \nz\n\" id=\"DejaVuSans-46\"/>\n      </defs>\n      <g transform=\"translate(7.2 215.362034)scale(0.1 -0.1)\">\n       <use xlink:href=\"#DejaVuSans-49\"/>\n       <use x=\"63.623047\" xlink:href=\"#DejaVuSans-46\"/>\n       <use x=\"95.410156\" xlink:href=\"#DejaVuSans-52\"/>\n      </g>\n     </g>\n    </g>\n    <g id=\"ytick_2\">\n     <g id=\"line2d_8\">\n      <g>\n       <use style=\"stroke:#000000;stroke-width:0.8;\" x=\"30.103125\" xlink:href=\"#mf61353d587\" y=\"189.277971\"/>\n      </g>\n     </g>\n     <g id=\"text_8\">\n      <!-- 1.6 -->\n      <g transform=\"translate(7.2 193.07719)scale(0.1 -0.1)\">\n       <use xlink:href=\"#DejaVuSans-49\"/>\n       <use x=\"63.623047\" xlink:href=\"#DejaVuSans-46\"/>\n       <use x=\"95.410156\" xlink:href=\"#DejaVuSans-54\"/>\n      </g>\n     </g>\n    </g>\n    <g id=\"ytick_3\">\n     <g id=\"line2d_9\">\n      <g>\n       <use style=\"stroke:#000000;stroke-width:0.8;\" x=\"30.103125\" xlink:href=\"#mf61353d587\" y=\"166.993127\"/>\n      </g>\n     </g>\n     <g id=\"text_9\">\n      <!-- 1.8 -->\n      <g transform=\"translate(7.2 170.792346)scale(0.1 -0.1)\">\n       <use xlink:href=\"#DejaVuSans-49\"/>\n       <use x=\"63.623047\" xlink:href=\"#DejaVuSans-46\"/>\n       <use x=\"95.410156\" xlink:href=\"#DejaVuSans-56\"/>\n      </g>\n     </g>\n    </g>\n    <g id=\"ytick_4\">\n     <g id=\"line2d_10\">\n      <g>\n       <use style=\"stroke:#000000;stroke-width:0.8;\" x=\"30.103125\" xlink:href=\"#mf61353d587\" y=\"144.708283\"/>\n      </g>\n     </g>\n     <g id=\"text_10\">\n      <!-- 2.0 -->\n      <g transform=\"translate(7.2 148.507502)scale(0.1 -0.1)\">\n       <use xlink:href=\"#DejaVuSans-50\"/>\n       <use x=\"63.623047\" xlink:href=\"#DejaVuSans-46\"/>\n       <use x=\"95.410156\" xlink:href=\"#DejaVuSans-48\"/>\n      </g>\n     </g>\n    </g>\n    <g id=\"ytick_5\">\n     <g id=\"line2d_11\">\n      <g>\n       <use style=\"stroke:#000000;stroke-width:0.8;\" x=\"30.103125\" xlink:href=\"#mf61353d587\" y=\"122.423439\"/>\n      </g>\n     </g>\n     <g id=\"text_11\">\n      <!-- 2.2 -->\n      <g transform=\"translate(7.2 126.222658)scale(0.1 -0.1)\">\n       <use xlink:href=\"#DejaVuSans-50\"/>\n       <use x=\"63.623047\" xlink:href=\"#DejaVuSans-46\"/>\n       <use x=\"95.410156\" xlink:href=\"#DejaVuSans-50\"/>\n      </g>\n     </g>\n    </g>\n    <g id=\"ytick_6\">\n     <g id=\"line2d_12\">\n      <g>\n       <use style=\"stroke:#000000;stroke-width:0.8;\" x=\"30.103125\" xlink:href=\"#mf61353d587\" y=\"100.138595\"/>\n      </g>\n     </g>\n     <g id=\"text_12\">\n      <!-- 2.4 -->\n      <g transform=\"translate(7.2 103.937814)scale(0.1 -0.1)\">\n       <use xlink:href=\"#DejaVuSans-50\"/>\n       <use x=\"63.623047\" xlink:href=\"#DejaVuSans-46\"/>\n       <use x=\"95.410156\" xlink:href=\"#DejaVuSans-52\"/>\n      </g>\n     </g>\n    </g>\n    <g id=\"ytick_7\">\n     <g id=\"line2d_13\">\n      <g>\n       <use style=\"stroke:#000000;stroke-width:0.8;\" x=\"30.103125\" xlink:href=\"#mf61353d587\" y=\"77.853751\"/>\n      </g>\n     </g>\n     <g id=\"text_13\">\n      <!-- 2.6 -->\n      <g transform=\"translate(7.2 81.65297)scale(0.1 -0.1)\">\n       <use xlink:href=\"#DejaVuSans-50\"/>\n       <use x=\"63.623047\" xlink:href=\"#DejaVuSans-46\"/>\n       <use x=\"95.410156\" xlink:href=\"#DejaVuSans-54\"/>\n      </g>\n     </g>\n    </g>\n    <g id=\"ytick_8\">\n     <g id=\"line2d_14\">\n      <g>\n       <use style=\"stroke:#000000;stroke-width:0.8;\" x=\"30.103125\" xlink:href=\"#mf61353d587\" y=\"55.568907\"/>\n      </g>\n     </g>\n     <g id=\"text_14\">\n      <!-- 2.8 -->\n      <g transform=\"translate(7.2 59.368126)scale(0.1 -0.1)\">\n       <use xlink:href=\"#DejaVuSans-50\"/>\n       <use x=\"63.623047\" xlink:href=\"#DejaVuSans-46\"/>\n       <use x=\"95.410156\" xlink:href=\"#DejaVuSans-56\"/>\n      </g>\n     </g>\n    </g>\n    <g id=\"ytick_9\">\n     <g id=\"line2d_15\">\n      <g>\n       <use style=\"stroke:#000000;stroke-width:0.8;\" x=\"30.103125\" xlink:href=\"#mf61353d587\" y=\"33.284063\"/>\n      </g>\n     </g>\n     <g id=\"text_15\">\n      <!-- 3.0 -->\n      <defs>\n       <path d=\"M 40.578125 39.3125 \nQ 47.65625 37.796875 51.625 33 \nQ 55.609375 28.21875 55.609375 21.1875 \nQ 55.609375 10.40625 48.1875 4.484375 \nQ 40.765625 -1.421875 27.09375 -1.421875 \nQ 22.515625 -1.421875 17.65625 -0.515625 \nQ 12.796875 0.390625 7.625 2.203125 \nL 7.625 11.71875 \nQ 11.71875 9.328125 16.59375 8.109375 \nQ 21.484375 6.890625 26.8125 6.890625 \nQ 36.078125 6.890625 40.9375 10.546875 \nQ 45.796875 14.203125 45.796875 21.1875 \nQ 45.796875 27.640625 41.28125 31.265625 \nQ 36.765625 34.90625 28.71875 34.90625 \nL 20.21875 34.90625 \nL 20.21875 43.015625 \nL 29.109375 43.015625 \nQ 36.375 43.015625 40.234375 45.921875 \nQ 44.09375 48.828125 44.09375 54.296875 \nQ 44.09375 59.90625 40.109375 62.90625 \nQ 36.140625 65.921875 28.71875 65.921875 \nQ 24.65625 65.921875 20.015625 65.03125 \nQ 15.375 64.15625 9.8125 62.3125 \nL 9.8125 71.09375 \nQ 15.4375 72.65625 20.34375 73.4375 \nQ 25.25 74.21875 29.59375 74.21875 \nQ 40.828125 74.21875 47.359375 69.109375 \nQ 53.90625 64.015625 53.90625 55.328125 \nQ 53.90625 49.265625 50.4375 45.09375 \nQ 46.96875 40.921875 40.578125 39.3125 \nz\n\" id=\"DejaVuSans-51\"/>\n      </defs>\n      <g transform=\"translate(7.2 37.083282)scale(0.1 -0.1)\">\n       <use xlink:href=\"#DejaVuSans-51\"/>\n       <use x=\"63.623047\" xlink:href=\"#DejaVuSans-46\"/>\n       <use x=\"95.410156\" xlink:href=\"#DejaVuSans-48\"/>\n      </g>\n     </g>\n    </g>\n    <g id=\"ytick_10\">\n     <g id=\"line2d_16\">\n      <g>\n       <use style=\"stroke:#000000;stroke-width:0.8;\" x=\"30.103125\" xlink:href=\"#mf61353d587\" y=\"10.999219\"/>\n      </g>\n     </g>\n     <g id=\"text_16\">\n      <!-- 3.2 -->\n      <g transform=\"translate(7.2 14.798437)scale(0.1 -0.1)\">\n       <use xlink:href=\"#DejaVuSans-51\"/>\n       <use x=\"63.623047\" xlink:href=\"#DejaVuSans-46\"/>\n       <use x=\"95.410156\" xlink:href=\"#DejaVuSans-50\"/>\n      </g>\n     </g>\n    </g>\n   </g>\n   <g id=\"line2d_17\">\n    <path clip-path=\"url(#p7ac9378711)\" d=\"M 45.321307 18.954779 \nL 48.395687 115.186643 \nL 51.470067 103.008058 \nL 54.544447 88.79879 \nL 57.618827 149.293871 \nL 60.693208 124.591515 \nL 63.767588 160.61925 \nL 66.841968 145.214744 \nL 69.916348 135.738811 \nL 72.990728 139.24822 \nL 76.065108 141.479735 \nL 79.139489 112.003058 \nL 82.213869 149.394207 \nL 85.288249 148.560336 \nL 88.362629 154.701055 \nL 91.437009 157.920916 \nL 94.511389 150.224624 \nL 97.58577 156.474803 \nL 100.66015 157.750885 \nL 103.73453 156.384586 \nL 106.80891 95.712342 \nL 109.88329 164.877773 \nL 112.95767 110.900982 \nL 116.032051 153.464132 \nL 119.106431 156.365232 \nL 122.180811 154.975828 \nL 125.255191 144.855725 \nL 128.329571 104.708783 \nL 131.403951 139.531309 \nL 134.478332 134.885466 \nL 137.552712 142.722826 \nL 140.627092 141.371857 \nL 143.701472 161.133449 \nL 146.775852 173.351777 \nL 149.850232 185.606022 \nL 152.924613 175.82633 \nL 155.998993 142.767674 \nL 159.073373 178.222349 \nL 162.147753 193.311016 \nL 165.222133 182.799194 \nL 168.296513 168.496795 \nL 171.370894 177.956955 \nL 174.445274 167.517573 \nL 177.519654 178.837816 \nL 180.594034 170.834848 \nL 183.668414 157.296606 \nL 186.742794 161.002568 \nL 189.817175 165.913412 \nL 192.891555 165.027229 \nL 195.965935 170.871126 \nL 199.040315 161.09509 \nL 202.114695 167.565252 \nL 205.189075 194.173643 \nL 208.263456 156.900404 \nL 211.337836 157.260065 \nL 214.412216 172.512049 \nL 217.486596 185.449605 \nL 220.560976 173.141632 \nL 223.635356 174.614153 \nL 226.709737 181.754865 \nL 229.784117 151.451848 \nL 232.858497 192.262032 \nL 235.932877 169.830331 \nL 239.007257 190.302466 \nL 242.081637 182.757576 \nL 245.156018 184.589394 \nL 248.230398 184.840957 \nL 251.304778 176.577428 \nL 254.379158 158.346623 \nL 257.453538 159.393159 \nL 260.527918 185.037627 \nL 263.602299 167.10417 \nL 266.676679 212.432709 \nL 269.751059 174.212167 \nL 272.825439 150.596073 \nL 275.899819 200.382364 \nL 278.974199 171.730158 \nL 282.04858 196.060319 \nL 285.12296 188.025387 \nL 288.19734 195.271602 \nL 291.27172 187.708804 \nL 294.3461 183.934467 \nL 297.42048 197.273078 \nL 300.494861 185.437653 \nL 303.569241 216.627506 \nL 306.643621 174.742703 \nL 309.718001 210.03524 \nL 312.792381 206.513542 \nL 315.866761 208.970855 \nL 318.941142 194.062954 \nL 322.015522 195.324207 \nL 325.089902 207.040846 \nL 328.164282 204.309238 \nL 331.238662 215.159499 \nL 334.313042 184.1364 \nL 337.387423 176.761325 \nL 340.461803 196.747827 \nL 343.536183 189.995282 \nL 346.610563 201.997618 \nL 349.684943 205.9396 \n\" style=\"fill:none;stroke:#1f77b4;stroke-linecap:square;stroke-width:1.5;\"/>\n   </g>\n   <g id=\"patch_3\">\n    <path d=\"M 30.103125 226.511143 \nL 30.103125 9.071143 \n\" style=\"fill:none;stroke:#000000;stroke-linecap:square;stroke-linejoin:miter;stroke-width:0.8;\"/>\n   </g>\n   <g id=\"patch_4\">\n    <path d=\"M 364.903125 226.511143 \nL 364.903125 9.071143 \n\" style=\"fill:none;stroke:#000000;stroke-linecap:square;stroke-linejoin:miter;stroke-width:0.8;\"/>\n   </g>\n   <g id=\"patch_5\">\n    <path d=\"M 30.103125 226.511143 \nL 364.903125 226.511143 \n\" style=\"fill:none;stroke:#000000;stroke-linecap:square;stroke-linejoin:miter;stroke-width:0.8;\"/>\n   </g>\n   <g id=\"patch_6\">\n    <path d=\"M 30.103125 9.071143 \nL 364.903125 9.071143 \n\" style=\"fill:none;stroke:#000000;stroke-linecap:square;stroke-linejoin:miter;stroke-width:0.8;\"/>\n   </g>\n  </g>\n </g>\n <defs>\n  <clipPath id=\"p7ac9378711\">\n   <rect height=\"217.44\" width=\"334.8\" x=\"30.103125\" y=\"9.071143\"/>\n  </clipPath>\n </defs>\n</svg>\n",
      "image/png": "[encoded data removed]"
     },
     "metadata": {
      "needs_background": "light"
     }
    }
   ],
   "source": [
    "hidden_size = 256\n",
    "encoder1 = EncoderRNN(lang.n_words, hidden_size).to(device)\n",
    "attn_decoder1 = AttnDecoderRNN(hidden_size, lang.n_words, dropout_p=0.1).to(device)\n",
    "pairs = pairs\n",
    "trainIters(encoder1, attn_decoder1, 10000, print_every=200)"
   ]
  },
  {
   "cell_type": "code",
   "execution_count": 67,
   "metadata": {
    "tags": [
     "outputPrepend",
     "outputPrepend",
     "outputPrepend",
     "outputPrepend"
    ]
   },
   "outputs": [
    {
     "output_type": "stream",
     "name": "stdout",
     "text": "> protected void Identifier0 ( Identifier1 Identifier2 , Identifier3 Identifier4 ) throws Identifier5 { Identifier6 Identifier7 = null ; for ( int Identifier8 = 0 ; Identifier8 < Identifier2 . Identifier9 . Identifier10 ( ) ;\n= Identifier8 ++ ) {\n< Identifier11 Identifier12 = new Identifier11 ( ) ; <EOS>\n\n> public Identifier0 < Identifier1 > Identifier2 ( Identifier1 Identifier3 ) { Identifier4 < Identifier1 > Identifier5 = new Identifier4 < Identifier1 > ( ) ; Identifier6 Identifier7 = new Identifier6 ( Identifier3 ) ; Identifier6 [ ] Identifier8 = Identifier7 . Identifier9 ( ) ; for ( int Identifier10 = 0 ; Identifier10 < Identifier8 . Identifier11 ; Identifier10 ++ ) { Identifier1 Identifier12 = Identifier8 [ Identifier10 ] . Identifier13 ( ) ; if ( Identifier12 . Identifier14 ( \".cpp\" ) ) { Identifier5 . Identifier15 ( Identifier12 ) ; } }\n= return Identifier5 ;\n<  <EOS>\n\n> public void Identifier0 ( int Identifier1 , Identifier2 Identifier3 , Identifier4 < Identifier5 > Identifier6 ) { for ( Identifier7 Identifier8 : Identifier9 ) { if ( Identifier8 . Identifier10 ( ) instanceof Identifier11 ) { ( ( Identifier11 ) Identifier8 . Identifier10 ( ) ) . Identifier12 ( Identifier1 , Identifier3 , Identifier6 ) ; } } }\n= \n<  <EOS>\n\n> public double Identifier0 ( Identifier1 Identifier2 ) { Identifier3 Identifier4 = Identifier2 . Identifier5 ( ) ; Identifier6 Identifier7 = Identifier8 ( Identifier4 ) ;\n= Identifier6 Identifier9 = Identifier6 . Identifier10 ( Identifier7 , Identifier2 . Identifier11 ( ) . Identifier12 ( ) ) ;\n< Identifier6 . Identifier9 ( Identifier10 ( ) ) ; <EOS>\n\n> protected Identifier0 Identifier1 ( ) { Identifier2 ( Identifier3 . Identifier4 ( ) ) . Identifier5 ( Identifier6 ) ; Identifier7 Identifier8 = Identifier7 . Identifier9 ; Identifier10 Identifier11 = new Identifier10 ( ) ; Identifier0 . Identifier12 Identifier13 = new Identifier0 . Identifier12 ( Identifier3 , Identifier14 . Identifier15 ( ) , Identifier16 , Identifier17 , Identifier8 , Identifier11 , \"method\" ) ;\n= Identifier0 Identifier18 = new Identifier0 ( Identifier14 , Identifier13 , Identifier19 . Identifier20 , \"test-authority\" , Identifier8 , Identifier11 ) ;\n< Identifier18 ( Identifier4 , Identifier5 , Identifier6 , Identifier7 , Identifier8 , Identifier9 ) ; <EOS>\n\n> public Identifier0 Identifier1 ( Identifier2 Identifier3 ) throws Identifier4 { Identifier5 Identifier6 ; Identifier5 Identifier7 ; boolean Identifier8 = Identifier3 . Identifier9 ( Identifier10 . Identifier11 ) != null ; if ( Identifier8 ) { Identifier6 = ( Identifier5 ) Identifier3 . Identifier9 ( Identifier10 . Identifier12 ) ; Identifier7 = ( Identifier5 ) Identifier3 . Identifier9 ( Identifier10 . Identifier13 ) ; if ( Identifier6 == null && Identifier7 == null ) {\n= Identifier6 = Identifier3 . Identifier14 ( ) ;\n< return ( ; <EOS>\n\n> public void Identifier0 ( ) throws Identifier1 { Identifier2 Identifier3 = new Identifier2 ( ) ; Identifier4 < Identifier5 , Identifier5 > Identifier6 = Identifier7 . Identifier8 ( Identifier9 . Identifier10 ( Identifier3 ) ) ; Identifier11 ( ) . Identifier12 ( Identifier3 ) ; Identifier13 < Identifier14 > Identifier15 = Identifier13 . Identifier16 ( Identifier14 . class ) ; Identifier17 ( Identifier18 ) . Identifier19 ( Identifier15 . Identifier20 ( ) , Identifier21 ( true ) ) ;\n= Identifier14 Identifier22 = Identifier15 . Identifier23 ( ) ;\n< Identifier18 ( Identifier26 . Identifier22 ( ) ) ; <EOS>\n\n> private static @ Identifier0 Identifier1 Identifier2 ( Identifier3 Identifier4 , Identifier5 Identifier6 , Identifier5 Identifier7 , Identifier5 Identifier8 ) throws Identifier9 , Identifier10 { Identifier11 Identifier12 = new Identifier11 ( ) ; Identifier12 . Identifier13 ( \"diff\" , null , \"renames\" , true ) ; Identifier14 Identifier15 = Identifier12 . Identifier16 ( Identifier14 . Identifier17 ) ; try ( Identifier18 Identifier19 = new Identifier18 ( Identifier4 ) ) {\n= Identifier20 < Identifier1 > Identifier21 = Identifier19 . Identifier22 ( ) . Identifier23 ( Identifier24 ( Identifier4 , Identifier6 ) ) . Identifier25 ( Identifier24 ( Identifier4 , Identifier7 ) ) . Identifier26 ( Identifier27 . Identifier28 ( Identifier8 , Identifier15 ) ) . Identifier29 ( ) ;\n< for ( Identifier1 ( Identifier15 ) ) { <EOS>\n\n> public static Identifier0 Identifier1 ( Identifier2 Identifier3 ) { if ( Identifier3 == null ) { return null ; } if ( Identifier3 instanceof Identifier4 ) { return ( ( Identifier4 ) Identifier3 ) ? 1 : 0 ; }\n= return ( ( Identifier5 ) Identifier3 ) . Identifier6 ( ) ;\n< return ( ( Identifier5 ) Identifier3 ) ) ; <EOS>\n\n> private Identifier0 Identifier1 ( Identifier0 Identifier2 ) { if ( Identifier2 == null ) { return null ; } final int Identifier3 = Identifier2 . Identifier4 ( ' ' ) ; if ( Identifier3 <= 0 ) { return null ; } final Identifier0 Identifier5 = Identifier2 . Identifier6 ( 0 , Identifier3 ) ; if ( ! Identifier7 . Identifier8 ( Identifier5 ) ) { return null ;\n= }\n< } <EOS>\n\n"
    }
   ],
   "source": [
    "reverse_flag = False\n",
    "evaluateRandomly(encoder1, attn_decoder1)"
   ]
  },
  {
   "cell_type": "code",
   "execution_count": 68,
   "metadata": {},
   "outputs": [
    {
     "output_type": "execute_result",
     "data": {
      "text/plain": "{0: 'SOS',\n 1: 'EOS',\n 2: 'public',\n 3: 'Identifier0',\n 4: 'Identifier1',\n 5: '(',\n 6: 'Identifier2',\n 7: 'Identifier3',\n 8: ',',\n 9: '@',\n 10: 'Identifier4',\n 11: 'Identifier5',\n 12: 'Identifier6',\n 13: 'Identifier7',\n 14: 'Identifier8',\n 15: ')',\n 16: '{',\n 17: 'Identifier9',\n 18: '=',\n 19: '.',\n 20: 'Identifier10',\n 21: 'Identifier11',\n 22: 'Identifier12',\n 23: 'false',\n 24: ';',\n 25: 'Identifier13',\n 26: 'Identifier14',\n 27: 'this',\n 28: 'return',\n 29: '}',\n 30: '',\n 31: 'private',\n 32: 'void',\n 33: 'for',\n 34: ':',\n 35: 'new',\n 36: '<',\n 37: '>',\n 38: 'if',\n 39: 'class',\n 40: 'true',\n 41: 'try',\n 42: 'Identifier15',\n 43: 'Identifier16',\n 44: 'catch',\n 45: 'Identifier17',\n 46: '|',\n 47: 'Identifier18',\n 48: 'Identifier19',\n 49: 'throw',\n 50: 'Identifier20',\n 51: 'protected',\n 52: 'final',\n 53: '0',\n 54: '1',\n 55: '?',\n 56: 'extends',\n 57: 'super',\n 58: '==',\n 59: 'static',\n 60: '[',\n 61: ']',\n 62: 'throws',\n 63: '!=',\n 64: 'null',\n 65: 'Identifier21',\n 66: 'Identifier22',\n 67: 'Identifier23',\n 68: 'Identifier24',\n 69: 'Identifier25',\n 70: 'Identifier26',\n 71: '!',\n 72: 'synchronized',\n 73: '3200',\n 74: '2400',\n 75: '-',\n 76: '8',\n 77: '10',\n 78: '100',\n 79: '200',\n 80: '4',\n 81: '\"2e1d65e4cf6c5e267e109aa20fd68ae119fa5ec9\"',\n 82: '\"5a10bd6ee431e362facb03cfe763b9a3d9dfd02d\"',\n 83: '\"README.md\"',\n 84: '\"7b2e6193a39726510ed9d0f66a779665d0e4ce23^\"',\n 85: '\"7b2e6193a39726510ed9d0f66a779665d0e4ce23\"',\n 86: '\"build.gradle\"',\n 87: '\"Showing',\n 88: 'diff',\n 89: 'of',\n 90: '\"',\n 91: '+',\n 92: '\"diff\"',\n 93: '\"renames\"',\n 94: 'Identifier27',\n 95: 'Identifier28',\n 96: 'Identifier29',\n 97: 'int',\n 98: '31',\n 99: '*',\n 100: 'boolean',\n 101: 'else',\n 102: 'while',\n 103: 'Identifier30',\n 104: '\"200\"',\n 105: '\"content-type\"',\n 106: '\"application/grpc\"',\n 107: '\"grpc-status\"',\n 108: '\"0\"',\n 109: '\"1\"',\n 110: '\"no',\n 111: 'message',\n 112: 'expected\"',\n 113: '\"method\"',\n 114: '\"test-authority\"',\n 115: '\"\"',\n 116: '\"X\"',\n 117: '\"cannot',\n 118: 'consume',\n 119: 'EOF\"',\n 120: '\"XYZ\"',\n 121: \"'X'\",\n 122: \"'Y'\",\n 123: '2',\n 124: \"'Z'\",\n 125: '3',\n 126: '\"愛\"',\n 127: '0x1F4A9',\n 128: '\"01234\"',\n 129: '0x1F522',\n 130: '\"6789\"',\n 131: '\"34🔢67\"',\n 132: '7',\n 133: '\"01234🔢6789\"',\n 134: '6',\n 135: '5',\n 136: '\"hello\"',\n 137: 'instanceof',\n 138: 'byte',\n 139: '\"hello',\n 140: '世界\"',\n 141: 'char',\n 142: '🌍\"',\n 143: '\"Error',\n 144: 'processing',\n 145: 'request',\n 146: 'due',\n 147: 'to',\n 148: '\"core/json/containerconfig.json\"',\n 149: '\"1970-01-01T00:00:20Z\"',\n 150: '\"wasm\"',\n 151: '\"js\"',\n 152: '\"VAR1=VAL1\"',\n 153: '\"VAR2=VAL2\"',\n 154: '\"some\"',\n 155: '\"entrypoint\"',\n 156: '\"command\"',\n 157: '&&',\n 158: '\"null\"',\n 159: '\"true\"',\n 160: '\"false\"',\n 161: '||',\n 162: 'enum',\n 163: 'switch',\n 164: 'case',\n 165: '\"yes\"',\n 166: '\"no\"',\n 167: 'default',\n 168: '1.0',\n 169: '0.0',\n 170: 'double',\n 171: '...',\n 172: '\"user\"',\n 173: '\"pass\"',\n 174: '\"Zombie_ROOM_1_REF_KEY_1\"',\n 175: '\"localhost\"',\n 176: '18090',\n 177: '\"255.255.255.255\"',\n 178: '<=',\n 179: '50',\n 180: '++',\n 181: '\"Remaining',\n 182: 'Human',\n 183: 'Population:',\n 184: \"'['\",\n 185: \"']'\",\n 186: '\"WelcomePlugin.start()\"',\n 187: '\"WelcomePlugin\"',\n 188: '\"prepare',\n 189: 'schrimpfAcceptanceFunction,',\n 190: 'i.e.',\n 191: 'determine',\n 192: 'initial',\n 193: 'threshold\"',\n 194: '\"foo\"',\n 195: '\"[OccupyTimeoutProperty]',\n 196: 'Illegal',\n 197: 'timeout',\n 198: 'value',\n 199: 'will',\n 200: 'be',\n 201: 'ignored:',\n 202: '\",',\n 203: 'should',\n 204: 'occupyTimeout',\n 205: 'updated',\n 206: 'to:',\n 207: \"';'\",\n 208: \"'?'\",\n 209: '\"testData/fixtures/classes/brokenAutoloading/case1.php\"',\n 210: '\"testData/fixtures/classes/brokenAutoloading/case1.class.php\"',\n 211: '\"testData/fixtures/classes/brokenAutoloading/ValidCase.php\"',\n 212: '\"testData/fixtures/classes/brokenAutoloading/ValidCaseWithNamespace.php\"',\n 213: '\"testData/fixtures/classes/brokenAutoloading/ValidCase.class.php\"',\n 214: '\"testData/fixtures/classes/brokenAutoloading/ValidCase.multiple.php\"',\n 215: '\"testData/fixtures/classes/brokenAutoloading/0000_00_00_000000_Version000000_.php\"',\n 216: '0d',\n 217: '\"uploads\"',\n 218: '\".\"',\n 219: '\"/\"',\n 220: '\"application/binary;charset=ISO8859_1\"',\n 221: '\"ISO8859_1\"',\n 222: '\"Content-disposition\"',\n 223: '\"attachment;',\n 224: 'filename=\"',\n 225: '\".xlsx\"',\n 226: '\"#\"',\n 227: '\"testData/fixtures/lang/elvis-operator.php\"',\n 228: '->',\n 229: '\"testData/fixtures/lang/elvis-operator.fixed.php\"',\n 230: '\"-test-dir\"',\n 231: '\"java.io.tmpdir\"',\n 232: '\"-\"',\n 233: 'do',\n 234: '\"EOF\"',\n 235: 'break',\n 236: '\"-no-listener\"',\n 237: '\"input\"',\n 238: '\"Test.cpp\"',\n 239: '\"-visitor\"',\n 240: '\"Cpp\"',\n 241: '\".cpp\"',\n 242: '\".h\"',\n 243: '\"os.name\"',\n 244: '\"generic\"',\n 245: '\"mac\"',\n 246: '>=',\n 247: '\"darwin\"',\n 248: '\"win\"',\n 249: '\"windows\"',\n 250: '\"nux\"',\n 251: '\"linux\"',\n 252: '\"Building',\n 253: 'ANTLR4',\n 254: 'C++',\n 255: 'runtime',\n 256: '(if',\n 257: 'necessary)',\n 258: 'at',\n 259: '\"cmake\"',\n 260: '\"-DCMAKE_BUILD_TYPE=release\"',\n 261: '\"antlr',\n 262: 'cmake\"',\n 263: '\"can\\'t',\n 264: 'configure',\n 265: 'antlr',\n 266: 'cpp',\n 267: 'cmake',\n 268: 'file\"',\n 269: '\"make\"',\n 270: '\"-j\"',\n 271: '\"8\"',\n 272: '\"/runtime/src\"',\n 273: '\"a.out\"',\n 274: '\"clang++\"',\n 275: '\"--version\"',\n 276: '\"printing',\n 277: 'compiler',\n 278: 'version\"',\n 279: '\"Cannot',\n 280: 'find',\n 281: 'runtime\"',\n 282: '\"Can\\'t',\n 283: \"'('\",\n 284: 'error;',\n 285: '\"error',\n 286: 'is',\n 287: 'not',\n 288: 'a',\n 289: 'GrammarSemanticsMessage\"',\n 290: '\"too',\n 291: 'many',\n 292: 'errors;',\n 293: '\")\"',\n 294: '+=',\n 295: '\"()\"',\n 296: '\"#include',\n 297: '\\\\\\\\<iostream>\\\\n\"',\n 298: '\"\\\\n\"',\n 299: '\\\\\"antlr4-runtime.h\\\\\"\\\\n\"',\n 300: '\\\\\"<lexerName>.h\\\\\"\\\\n\"',\n 301: '\\\\\"support/StringUtils.h\\\\\"\\\\n\"',\n 302: '\"using',\n 303: 'namespace',\n 304: 'antlr4;\\\\n\"',\n 305: '\"int',\n 306: 'main(int',\n 307: 'argc,',\n 308: 'const',\n 309: 'char*',\n 310: 'argv[])',\n 311: '{\\\\n\"',\n 312: 'ANTLRFileStream',\n 313: 'input(argv[1]);\\\\n\"',\n 314: '<lexerName>',\n 315: 'lexer(&input);\\\\n\"',\n 316: 'CommonTokenStream',\n 317: 'tokens(&lexer);\\\\n\"',\n 318: 'tokens.fill();\\\\n\"',\n 319: '(auto',\n 320: 'token',\n 321: 'tokens.getTokens())\\\\n\"',\n 322: 'std::cout',\n 323: '\\\\\\\\<\\\\\\\\<',\n 324: 'token->toString()',\n 325: 'std::endl;\\\\n\"',\n 326: 'lexer.getInterpreter\\\\\\\\<atn::LexerATNSimulator>()->getDFA(Lexer::DEFAULT_MODE).toLexerString();\\\\n\"',\n 327: '0;\\\\n\"',\n 328: '\"}\\\\n\"',\n 329: '\"-erase-test-dir\"',\n 330: '\"Exception',\n 331: 'in',\n 332: 'thread',\n 333: '\\\\\"main\\\\\"',\n 334: '\"Map',\n 335: 'toString',\n 336: 'looks',\n 337: 'like:',\n 338: '\"Tree',\n 339: 'map',\n 340: 'Identifier31',\n 341: 'Identifier32',\n 342: 'Identifier33',\n 343: 'Identifier34',\n 344: 'Identifier35',\n 345: '::',\n 346: \"'\",\n 347: '19',\n 348: '2012',\n 349: '\"{{dateFormat',\n 350: 'this}}\"',\n 351: '\\\\\"full\\\\\"}}\"',\n 352: '\\\\\"long\\\\\"}}\"',\n 353: '\\\\\"medium\\\\\"}}\"',\n 354: '\\\\\"short\\\\\"}}\"',\n 355: '\"dd/MM/yyyy\"',\n 356: '\\\\\"dd/MM/yyyy\\\\\"}}\"',\n 357: '\\\\\"short\\\\\"',\n 358: '\\\\\"fr\\\\\"}}\"',\n 359: 'long',\n 360: '\"MO\"',\n 361: '\"TU\"',\n 362: '\"WE\"',\n 363: '\"TH\"',\n 364: '\"FR\"',\n 365: '\",\"',\n 366: '&'}"
     },
     "metadata": {},
     "execution_count": 68
    }
   ],
   "source": [
    "lang.index2word"
   ]
  },
  {
   "cell_type": "code",
   "execution_count": 24,
   "metadata": {},
   "outputs": [
    {
     "output_type": "execute_result",
     "data": {
      "text/plain": "5391"
     },
     "metadata": {},
     "execution_count": 24
    }
   ],
   "source": [
    "lang.n_words"
   ]
  },
  {
   "cell_type": "code",
   "execution_count": 27,
   "metadata": {},
   "outputs": [
    {
     "output_type": "execute_result",
     "data": {
      "text/plain": "[('thank you doctor , after doing all these i can upload all for further query .',\n  '. you to revert and see will i . only query this in upload , yes , hi'),\n ('i have covid 19 symptoms ?',\n  \". say to impossible 's it details any without\"),\n ('do i have covid 19 ?', \". say to impossible 's it details any without\"),\n ('is the coronavirus 229e the same as covid-19 ?',\n  '. viruses different but , ) covid-19 of cause the ( sars-cov-2 to related biologically . colds common cause that coronaviruses several of one is cov229e'),\n ('where can i be tested for covid 19 ?',\n  '. live you where is up set your what here idea no have we , department health local , doctor local your'),\n ('am i at risk for covid-19 in the united states ?',\n  '. measures prophylactic important most the probably are recommendations washing hand following and travel avoiding . us in weeks few next the over up pick likely will infections covid'),\n ('should i shave my beard to reduce my chances of contracting coronavirus / covid-19 ?',\n  '. off shave or alcohol with spray and day a times few a beard your wash either . hairs especially everything to clings virus this yes : brief in'),\n ('can taking extra steps for self-care ( like staying hydrated , getting more sleep ) every day help prevent you from catching the coronavirus or the flu ?',\n  '. nutrition good and shape good in body the keep to helps it yes : brief in'),\n ('do i have covid 19 ?',\n  \"? me with chat text or video to like you would . say to impossible 's it details any without unknown : brief in\"),\n ('will getting either of the pneumonia vaccines , prevnar and pneumovax , prevent you from developing pneumonia if you catch the flu or covid ?',\n  '. pneumonia viral on effect no have they . pneumonia bacterial prevent vaccines the . no'),\n ('how do i know if i have corona virus ?', '! tested get , sure be to'),\n ('if i leave covid 19 infected product in fridge , will virus die or survive in the fridge ?',\n  '. . way this sources food via virus of transfer no is there that shows food frozen from data . covid'),\n ('i hear covid 19 virus dies around 27c . does it mean once temperature outside rises above 27 c all covid 19 viruses outside will be dead ?',\n  '. it kill does c +56 it kill not does c -80 . hope might one as . fragile as not'),\n ('if i have had a sore throat for 3 days but with no fever should i be tested for covid-19 ?',\n  'call'),\n ('how do i book a virtual consultation with my doctor for covid-19 ?',\n  \"? me with chat text or video to like you would instructions for office 's doctor your call doctor your call : brief in\"),\n ('i also have a dry throat sometimes its feels like there is something stuck or putting pressure on my throat ?',\n  '? patient virus corona a with contact into come or travelled you have . info more need'),\n ('i have a 2 years old with cough n fever sweating which is worse at night , can she b tested for covid19 ?',\n  '? me with chat text or video to like you would . advise for doctor your call yes : brief in'),\n ('i use athraway chronic for rheumatoid arthritis , will this complicate things relating to the corona virus ?',\n  '. virus corona on effect any have will it think not do i . no'),\n ('i have a prolia injection appointment at the beginning of april . will it be safer to postpone the appointment because of the covid-19 situation ? prolia appointment',\n  '. . least at weeks 2-4 by treatment the postpone can you definitely . yes . postpone yes'),\n ('hi , can i use oralcon birth control pills even though we have the coronavirus epademic ?',\n  '? me with chat text or video to like you would . virus the and bcp using to contraindication any of unaware am i yes : brief in'),\n ('is it safe to eat food prepared by someone with coronavirus ? even if they wear a mask and gloves ?',\n  '. food prepare to enough protectve not is gear protective the . skip to better'),\n ('can the meat i eat give me coronavirus ? will cooking kill the coronavirus ?',\n  '. microwave , of sec virus-30 the kill will adequately cooking . kill will cooking'),\n ('does a virus cause lesions dry and oily nose',\n  '? me with chat text or video to like you would discharge moist increase nose runny cause to likely more not usually : brief in'),\n ('i am the main member of discovery , i want to complete a health covid assessment for my husband ? please let me know how to do so ?',\n  \"? me with chat text or video to like you would . discovery call to need 'll you discovery call : brief in\"),\n ('body ache and fever , scratchy itchy throat ?',\n  '! through follow then hospitalization possible and self-quarantine , testing regarding instructions get to provider care health your call ? covid-19 early'),\n ('i think i need to be tested for covid-19 ?',\n  '. wil dr ? symptoms concern/ your is what . patient dear . 19 covid'),\n ('vomiting , diarrhea , achey , dizzy and weak fever has kept rising and is now at 103 . 4 any advice ?',\n  '. . physician a by ordered tests get , hydrated stay , tylenol take . coronavirus even or flu , gastroenteritis infectious an have you seem . infection'),\n ('i travelled to mauritius and do not have symptoms . should i get tested for covid19 ?',\n  '. platform this use or physician care primary your contact , symptomatic if . days 14 for quarantine self suggest . quarantine self')]"
     },
     "metadata": {},
     "execution_count": 27
    }
   ],
   "source": [
    "pairs"
   ]
  },
  {
   "cell_type": "code",
   "execution_count": null,
   "metadata": {},
   "outputs": [],
   "source": []
  }
 ]
}